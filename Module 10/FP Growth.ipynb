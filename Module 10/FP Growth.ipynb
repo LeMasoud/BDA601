{
 "cells": [
  {
   "cell_type": "code",
   "execution_count": 21,
   "id": "2f71fc0c",
   "metadata": {},
   "outputs": [],
   "source": [
    "from pyspark.sql import SQLContext\n",
    "from pyspark import SparkContext\n",
    "from pyspark.ml.fpm import FPGrowth\n",
    "\n",
    "SparkContext.getOrCreate()\n",
    "sc = SparkContext.getOrCreate(\"FP-Growth\")\n",
    "sqlCtx = SQLContext(sc)"
   ]
  },
  {
   "cell_type": "code",
   "execution_count": 22,
   "id": "6321eb4f",
   "metadata": {},
   "outputs": [
    {
     "name": "stdout",
     "output_type": "stream",
     "text": [
      "+---------+----+\n",
      "|    items|freq|\n",
      "+---------+----+\n",
      "|      [1]|   3|\n",
      "|      [2]|   3|\n",
      "|   [2, 1]|   3|\n",
      "|      [5]|   2|\n",
      "|   [5, 2]|   2|\n",
      "|[5, 2, 1]|   2|\n",
      "|   [5, 1]|   2|\n",
      "+---------+----+\n",
      "\n",
      "+----------+----------+------------------+----+------------------+\n",
      "|antecedent|consequent|        confidence|lift|           support|\n",
      "+----------+----------+------------------+----+------------------+\n",
      "|    [5, 2]|       [1]|               1.0| 1.0|0.6666666666666666|\n",
      "|    [2, 1]|       [5]|0.6666666666666666| 1.0|0.6666666666666666|\n",
      "|    [5, 1]|       [2]|               1.0| 1.0|0.6666666666666666|\n",
      "|       [5]|       [2]|               1.0| 1.0|0.6666666666666666|\n",
      "|       [5]|       [1]|               1.0| 1.0|0.6666666666666666|\n",
      "|       [1]|       [2]|               1.0| 1.0|               1.0|\n",
      "|       [1]|       [5]|0.6666666666666666| 1.0|0.6666666666666666|\n",
      "|       [2]|       [1]|               1.0| 1.0|               1.0|\n",
      "|       [2]|       [5]|0.6666666666666666| 1.0|0.6666666666666666|\n",
      "+----------+----------+------------------+----+------------------+\n",
      "\n"
     ]
    }
   ],
   "source": [
    "df = sqlCtx.createDataFrame([ # Create Dataframe from datasets\n",
    "    (0, [1, 2, 5]),    # Dataset 1\n",
    "    (1, [1, 2, 3, 5]), # Dataset 2\n",
    "    (2, [1, 2])        # Dataset 3\n",
    "], [\"id\", \"items\"]) # Name of the columns\n",
    "\n",
    "fpGrowth = FPGrowth(itemsCol=\"items\", minSupport=0.5, minConfidence=0.6)\n",
    "# minSupport: the minimum support for an itemset to be identified as frequent. \n",
    "# For example, if an item appears 3 out of 5 transactions, it has a support of 3/5=0.6.\n",
    "\n",
    "# minConfidence: minimum confidence for generating Association Rule. \n",
    "# Confidence is an indication of how often an association rule has been found to be true. \n",
    "# For example, if in the transactions itemset X appears 4 times, X and Y co-occur only 2 times, \n",
    "# the confidence for the rule X => Y is then 2/4 = 0.5. The parameter will not affect the mining for frequent itemsets, \n",
    "# but specify the minimum confidence for generating association rules from frequent itemsets.\n",
    "\n",
    "# Fit the fpGrowth model to the data\n",
    "model = fpGrowth.fit(df)\n",
    "\n",
    "# Display frequent itemsets.\n",
    "model.freqItemsets.show()\n",
    "\n",
    "# Display generated association rules.\n",
    "model.associationRules.show()"
   ]
  },
  {
   "cell_type": "code",
   "execution_count": null,
   "id": "94fd96a4",
   "metadata": {},
   "outputs": [],
   "source": []
  }
 ],
 "metadata": {
  "kernelspec": {
   "display_name": "Python 3 (ipykernel)",
   "language": "python",
   "name": "python3"
  },
  "language_info": {
   "codemirror_mode": {
    "name": "ipython",
    "version": 3
   },
   "file_extension": ".py",
   "mimetype": "text/x-python",
   "name": "python",
   "nbconvert_exporter": "python",
   "pygments_lexer": "ipython3",
   "version": "3.9.7"
  }
 },
 "nbformat": 4,
 "nbformat_minor": 5
}
