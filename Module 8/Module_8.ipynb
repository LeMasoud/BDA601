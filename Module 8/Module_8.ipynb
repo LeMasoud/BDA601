{
 "cells": [
  {
   "cell_type": "code",
   "execution_count": 3,
   "id": "44b2466a",
   "metadata": {},
   "outputs": [
    {
     "name": "stdout",
     "output_type": "stream",
     "text": [
      "Requirement already satisfied: pandas in d:\\users\\rezaz\\anaconda3\\lib\\site-packages (1.3.4)\n",
      "Requirement already satisfied: pytz>=2017.3 in d:\\users\\rezaz\\anaconda3\\lib\\site-packages (from pandas) (2021.3)\n",
      "Requirement already satisfied: numpy>=1.17.3 in d:\\users\\rezaz\\anaconda3\\lib\\site-packages (from pandas) (1.20.3)\n",
      "Requirement already satisfied: python-dateutil>=2.7.3 in d:\\users\\rezaz\\anaconda3\\lib\\site-packages (from pandas) (2.8.2)\n",
      "Requirement already satisfied: six>=1.5 in d:\\users\\rezaz\\anaconda3\\lib\\site-packages (from python-dateutil>=2.7.3->pandas) (1.16.0)\n"
     ]
    }
   ],
   "source": [
    "!pip install pandas \n",
    "import pandas as pd \n",
    "# pandas is a software library written for the Python programming language for data manipulation and analysis.\n",
    "# In this code we use it to show scatter plots. \n",
    "\n",
    "from pyspark.ml.feature import VectorAssembler\n",
    "from pyspark.sql.types import DoubleType\n",
    "from pyspark.sql.functions import col\n",
    "from pyspark.sql import SQLContext\n",
    "from pyspark import SparkContext\n",
    "\n",
    "SparkContext.getOrCreate()\n",
    "sc = SparkContext.getOrCreate(\"ch6\")\n",
    "sqlCtx = SQLContext(sc)"
   ]
  },
  {
   "cell_type": "code",
   "execution_count": 4,
   "id": "a993248c",
   "metadata": {},
   "outputs": [],
   "source": [
    "from pyspark.ml.linalg import Vectors\n",
    "from pyspark.ml.stat import Correlation"
   ]
  },
  {
   "cell_type": "markdown",
   "id": "2cbce77b",
   "metadata": {},
   "source": [
    "Boston Housing dataset\n",
    "https://www.cs.toronto.edu/~delve/data/boston/bostonDetail.html"
   ]
  },
  {
   "cell_type": "markdown",
   "id": "9b7188b0",
   "metadata": {},
   "source": [
    "### Convert all columns to double type "
   ]
  },
  {
   "cell_type": "code",
   "execution_count": 5,
   "id": "68f59a7a",
   "metadata": {},
   "outputs": [
    {
     "name": "stdout",
     "output_type": "stream",
     "text": [
      "+-------+----+-----+----+-----+-----+----+------+---+---+-------+------+-----+----+\n",
      "|   crim|  zn|indus|chas|  nox|   rm| age|   dis|rad|tax|ptratio|     b|lstat|medv|\n",
      "+-------+----+-----+----+-----+-----+----+------+---+---+-------+------+-----+----+\n",
      "|0.00632|  18| 2.31|   0|0.538|6.575|65.2|  4.09|  1|296|   15.3| 396.9| 4.98|  24|\n",
      "|0.02731|   0| 7.07|   0|0.469|6.421|78.9|4.9671|  2|242|   17.8| 396.9| 9.14|21.6|\n",
      "|0.02729|   0| 7.07|   0|0.469|7.185|61.1|4.9671|  2|242|   17.8|392.83| 4.03|34.7|\n",
      "|0.03237|   0| 2.18|   0|0.458|6.998|45.8|6.0622|  3|222|   18.7|394.63| 2.94|33.4|\n",
      "|0.06905|   0| 2.18|   0|0.458|7.147|54.2|6.0622|  3|222|   18.7| 396.9| 5.33|36.2|\n",
      "|0.02985|   0| 2.18|   0|0.458| 6.43|58.7|6.0622|  3|222|   18.7|394.12| 5.21|28.7|\n",
      "|0.08829|12.5| 7.87|   0|0.524|6.012|66.6|5.5605|  5|311|   15.2| 395.6|12.43|22.9|\n",
      "|0.14455|12.5| 7.87|   0|0.524|6.172|96.1|5.9505|  5|311|   15.2| 396.9|19.15|27.1|\n",
      "|0.21124|12.5| 7.87|   0|0.524|5.631| 100|6.0821|  5|311|   15.2|386.63|29.93|16.5|\n",
      "|0.17004|12.5| 7.87|   0|0.524|6.004|85.9|6.5921|  5|311|   15.2|386.71| 17.1|18.9|\n",
      "|0.22489|12.5| 7.87|   0|0.524|6.377|94.3|6.3467|  5|311|   15.2|392.52|20.45|  15|\n",
      "|0.11747|12.5| 7.87|   0|0.524|6.009|82.9|6.2267|  5|311|   15.2| 396.9|13.27|18.9|\n",
      "|0.09378|12.5| 7.87|   0|0.524|5.889|  39|5.4509|  5|311|   15.2| 390.5|15.71|21.7|\n",
      "|0.62976|   0| 8.14|   0|0.538|5.949|61.8|4.7075|  4|307|     21| 396.9| 8.26|20.4|\n",
      "|0.63796|   0| 8.14|   0|0.538|6.096|84.5|4.4619|  4|307|     21|380.02|10.26|18.2|\n",
      "|0.62739|   0| 8.14|   0|0.538|5.834|56.5|4.4986|  4|307|     21|395.62| 8.47|19.9|\n",
      "|1.05393|   0| 8.14|   0|0.538|5.935|29.3|4.4986|  4|307|     21|386.85| 6.58|23.1|\n",
      "| 0.7842|   0| 8.14|   0|0.538| 5.99|81.7|4.2579|  4|307|     21|386.75|14.67|17.5|\n",
      "|0.80271|   0| 8.14|   0|0.538|5.456|36.6|3.7965|  4|307|     21|288.99|11.69|20.2|\n",
      "| 0.7258|   0| 8.14|   0|0.538|5.727|69.5|3.7965|  4|307|     21|390.95|11.28|18.2|\n",
      "+-------+----+-----+----+-----+-----+----+------+---+---+-------+------+-----+----+\n",
      "only showing top 20 rows\n",
      "\n",
      "[('crim', 'string'), ('zn', 'string'), ('indus', 'string'), ('chas', 'string'), ('nox', 'string'), ('rm', 'string'), ('age', 'string'), ('dis', 'string'), ('rad', 'string'), ('tax', 'string'), ('ptratio', 'string'), ('b', 'string'), ('lstat', 'string'), ('medv', 'string')]\n",
      "[('crim', 'double'), ('zn', 'double'), ('indus', 'double'), ('chas', 'double'), ('nox', 'double'), ('rm', 'double'), ('age', 'double'), ('dis', 'double'), ('rad', 'double'), ('tax', 'double'), ('ptratio', 'double'), ('b', 'double'), ('lstat', 'double'), ('medv', 'double')]\n"
     ]
    }
   ],
   "source": [
    "boston_housing = sqlCtx.read.option('header','true').options(delimiter=\",\").csv('BostonHousing.csv')\n",
    "boston_housing.show()\n",
    "print(boston_housing.dtypes)\n",
    "for _ in boston_housing.columns:\n",
    "    boston_housing = boston_housing.withColumn(_,col(_).cast(DoubleType()))\n",
    "print(boston_housing.dtypes)"
   ]
  },
  {
   "cell_type": "markdown",
   "id": "cf9f8df8",
   "metadata": {},
   "source": [
    "### Create features column with all of the columns to make a correlation matrix. "
   ]
  },
  {
   "cell_type": "code",
   "execution_count": 44,
   "id": "700b140e",
   "metadata": {},
   "outputs": [
    {
     "name": "stdout",
     "output_type": "stream",
     "text": [
      "+----------------------------------------------------------------------------------------------------------------------------------------+\n",
      "|features                                                                                                                                |\n",
      "+----------------------------------------------------------------------------------------------------------------------------------------+\n",
      "|[0.00632,18.0,2.31,0.0,0.538,6.575,65.2,4.09,1.0,296.0,15.3,396.9,4.98,24.0,43.230625,24.800400000000003,32.743500000000004]            |\n",
      "|[0.02731,0.0,7.07,0.0,0.469,6.421,78.9,4.9671,2.0,242.0,17.8,396.9,9.14,21.6,41.229241,83.53960000000001,58.687940000000005]            |\n",
      "|[0.02729,0.0,7.07,0.0,0.469,7.185,61.1,4.9671,2.0,242.0,17.8,392.83,4.03,34.7,51.624224999999996,16.240900000000003,28.95555]           |\n",
      "|[0.03237,0.0,2.18,0.0,0.458,6.998,45.8,6.0622,3.0,222.0,18.7,394.63,2.94,33.4,48.972004000000005,8.6436,20.57412]                       |\n",
      "|[0.06905,0.0,2.18,0.0,0.458,7.147,54.2,6.0622,3.0,222.0,18.7,396.9,5.33,36.2,51.079609000000005,28.4089,38.09351]                       |\n",
      "|[0.02985,0.0,2.18,0.0,0.458,6.43,58.7,6.0622,3.0,222.0,18.7,394.12,5.21,28.7,41.344899999999996,27.144099999999998,33.500299999999996]  |\n",
      "|[0.08829,12.5,7.87,0.0,0.524,6.012,66.6,5.5605,5.0,311.0,15.2,395.6,12.43,22.9,36.144144,154.5049,74.72916]                             |\n",
      "|[0.14455,12.5,7.87,0.0,0.524,6.172,96.1,5.9505,5.0,311.0,15.2,396.9,19.15,27.1,38.093584,366.72249999999997,118.19379999999998]         |\n",
      "|[0.21124,12.5,7.87,0.0,0.524,5.631,100.0,6.0821,5.0,311.0,15.2,386.63,29.93,16.5,31.708161000000004,895.8049,168.53583]                 |\n",
      "|[0.17004,12.5,7.87,0.0,0.524,6.004,85.9,6.5921,5.0,311.0,15.2,386.71,17.1,18.9,36.048016,292.41,102.6684]                               |\n",
      "|[0.22489,12.5,7.87,0.0,0.524,6.377,94.3,6.3467,5.0,311.0,15.2,392.52,20.45,15.0,40.666129,418.2025,130.40965]                           |\n",
      "|[0.11747,12.5,7.87,0.0,0.524,6.009,82.9,6.2267,5.0,311.0,15.2,396.9,13.27,18.9,36.108081000000006,176.0929,79.73943]                    |\n",
      "|[0.09378,12.5,7.87,0.0,0.524,5.889,39.0,5.4509,5.0,311.0,15.2,390.5,15.71,21.7,34.680321,246.80410000000003,92.51619000000001]          |\n",
      "|[0.62976,0.0,8.14,0.0,0.538,5.949,61.8,4.7075,4.0,307.0,21.0,396.9,8.26,20.4,35.390601,68.2276,49.13874]                                |\n",
      "|[0.63796,0.0,8.14,0.0,0.538,6.096,84.5,4.4619,4.0,307.0,21.0,380.02,10.26,18.2,37.161216,105.2676,62.544959999999996]                   |\n",
      "|[0.62739,0.0,8.14,0.0,0.538,5.834,56.5,4.4986,4.0,307.0,21.0,395.62,8.47,19.9,34.03555599999999,71.74090000000001,49.41398]             |\n",
      "|[1.05393,0.0,8.14,0.0,0.538,5.935,29.3,4.4986,4.0,307.0,21.0,386.85,6.58,23.1,35.224225,43.2964,39.052299999999995]                     |\n",
      "|[0.7842,0.0,8.14,0.0,0.538,5.99,81.7,4.2579,4.0,307.0,21.0,386.75,14.67,17.5,35.880100000000006,215.2089,87.8733]                       |\n",
      "|[0.80271,0.0,8.14,0.0,0.538,5.456,36.6,3.7965,4.0,307.0,21.0,288.99,11.69,20.2,29.767936000000006,136.65609999999998,63.780640000000005]|\n",
      "|[0.7258,0.0,8.14,0.0,0.538,5.727,69.5,3.7965,4.0,307.0,21.0,390.95,11.28,18.2,32.798529,127.23839999999998,64.60056]                    |\n",
      "+----------------------------------------------------------------------------------------------------------------------------------------+\n",
      "only showing top 20 rows\n",
      "\n"
     ]
    }
   ],
   "source": [
    "featureAssembler = VectorAssembler(inputCols = boston_housing.columns , outputCol='features')\n",
    "features_dataframe = featureAssembler.transform(boston_housing).select(['features'])\n",
    "features_dataframe.show(truncate=False)"
   ]
  },
  {
   "cell_type": "markdown",
   "id": "81b331d9",
   "metadata": {},
   "source": [
    "### Compute the correlation matrix for the input dataset of Vectors using the specified method\n",
    "### Method : pearson (default)\n",
    "\n",
    "https://www.google.com/search?q=pearson+correlation&oq=pearson+&aqs=edge.1.69i57j0i67l6j0i512l2.3941j0j1&sourceid=chrome&ie=UTF-8"
   ]
  },
  {
   "cell_type": "markdown",
   "id": "11ae426e",
   "metadata": {},
   "source": [
    "### Section 2\n",
    "\n",
    "Select the top three variables based on the pairwise correlations of the variables; "
   ]
  },
  {
   "cell_type": "code",
   "execution_count": 7,
   "id": "2227888c",
   "metadata": {},
   "outputs": [
    {
     "name": "stdout",
     "output_type": "stream",
     "text": [
      "DenseMatrix([[ 1.        , -0.20046922,  0.40658341, -0.05589158,  0.42097171,\n",
      "              -0.2192467 ,  0.35273425, -0.37967009,  0.62550515,  0.58276431,\n",
      "               0.28994558, -0.38506394,  0.45562148, -0.38830461],\n",
      "             [-0.20046922,  1.        , -0.53382819, -0.04269672, -0.51660371,\n",
      "               0.31199059, -0.56953734,  0.66440822, -0.31194783, -0.31456332,\n",
      "              -0.39167855,  0.17552032, -0.41299457,  0.36044534],\n",
      "             [ 0.40658341, -0.53382819,  1.        ,  0.06293803,  0.76365145,\n",
      "              -0.39167585,  0.64477851, -0.70802699,  0.59512927,  0.72076018,\n",
      "               0.38324756, -0.35697654,  0.60379972, -0.48372516],\n",
      "             [-0.05589158, -0.04269672,  0.06293803,  1.        ,  0.09120281,\n",
      "               0.09125123,  0.08651777, -0.09917578, -0.00736824, -0.03558652,\n",
      "              -0.12151517,  0.04878848, -0.0539293 ,  0.17526018],\n",
      "             [ 0.42097171, -0.51660371,  0.76365145,  0.09120281,  1.        ,\n",
      "              -0.30218819,  0.7314701 , -0.76923011,  0.61144056,  0.6680232 ,\n",
      "               0.18893268, -0.38005064,  0.59087892, -0.42732077],\n",
      "             [-0.2192467 ,  0.31199059, -0.39167585,  0.09125123, -0.30218819,\n",
      "               1.        , -0.24026493,  0.20524621, -0.20984667, -0.29204783,\n",
      "              -0.35550149,  0.12806864, -0.61380827,  0.69535995],\n",
      "             [ 0.35273425, -0.56953734,  0.64477851,  0.08651777,  0.7314701 ,\n",
      "              -0.24026493,  1.        , -0.74788054,  0.45602245,  0.50645559,\n",
      "               0.26151501, -0.27353398,  0.60233853, -0.37695457],\n",
      "             [-0.37967009,  0.66440822, -0.70802699, -0.09917578, -0.76923011,\n",
      "               0.20524621, -0.74788054,  1.        , -0.49458793, -0.53443158,\n",
      "              -0.23247054,  0.29151167, -0.49699583,  0.24992873],\n",
      "             [ 0.62550515, -0.31194783,  0.59512927, -0.00736824,  0.61144056,\n",
      "              -0.20984667,  0.45602245, -0.49458793,  1.        ,  0.91022819,\n",
      "               0.46474118, -0.44441282,  0.48867633, -0.38162623],\n",
      "             [ 0.58276431, -0.31456332,  0.72076018, -0.03558652,  0.6680232 ,\n",
      "              -0.29204783,  0.50645559, -0.53443158,  0.91022819,  1.        ,\n",
      "               0.46085304, -0.44180801,  0.54399341, -0.46853593],\n",
      "             [ 0.28994558, -0.39167855,  0.38324756, -0.12151517,  0.18893268,\n",
      "              -0.35550149,  0.26151501, -0.23247054,  0.46474118,  0.46085304,\n",
      "               1.        , -0.1773833 ,  0.37404432, -0.50778669],\n",
      "             [-0.38506394,  0.17552032, -0.35697654,  0.04878848, -0.38005064,\n",
      "               0.12806864, -0.27353398,  0.29151167, -0.44441282, -0.44180801,\n",
      "              -0.1773833 ,  1.        , -0.3660869 ,  0.33346082],\n",
      "             [ 0.45562148, -0.41299457,  0.60379972, -0.0539293 ,  0.59087892,\n",
      "              -0.61380827,  0.60233853, -0.49699583,  0.48867633,  0.54399341,\n",
      "               0.37404432, -0.3660869 ,  1.        , -0.73766273],\n",
      "             [-0.38830461,  0.36044534, -0.48372516,  0.17526018, -0.42732077,\n",
      "               0.69535995, -0.37695457,  0.24992873, -0.38162623, -0.46853593,\n",
      "              -0.50778669,  0.33346082, -0.73766273,  1.        ]])\n",
      "Correlation to MV for  crim -0.38830460858681154\n",
      "Correlation to MV for  zn 0.3604453424505433\n",
      "Correlation to MV for  indus -0.4837251600283728\n",
      "Correlation to MV for  chas 0.1752601771902987\n",
      "Correlation to MV for  nox -0.4273207723732821\n",
      "Correlation to MV for  rm 0.6953599470715401\n",
      "Correlation to MV for  age -0.3769545650045961\n",
      "Correlation to MV for  dis 0.249928734085904\n",
      "Correlation to MV for  rad -0.38162623063977735\n",
      "Correlation to MV for  tax -0.46853593356776674\n",
      "Correlation to MV for  ptratio -0.5077866855375622\n",
      "Correlation to MV for  b 0.3334608196570661\n",
      "Correlation to MV for  lstat -0.7376627261740145\n",
      "Correlation to MV for  medv 1.0\n"
     ]
    }
   ],
   "source": [
    "pearsonCorr = Correlation.corr(features_dataframe, 'features', 'pearson').collect()[0][0]\n",
    "print(pearsonCorr) # Show up the correlation matrix\n",
    "\n",
    "for i in boston_housing.columns: # calculation of correlation value for each column in pair of medv\n",
    "    print( \"Correlation to MV for \", i, boston_housing.stat.corr('medv',i))"
   ]
  },
  {
   "cell_type": "code",
   "execution_count": 40,
   "id": "ced042bd",
   "metadata": {
    "scrolled": true
   },
   "outputs": [
    {
     "data": {
      "image/png": "[encoded data removed]",
      "text/plain": [
       "<Figure size 432x288 with 1 Axes>"
      ]
     },
     "metadata": {
      "needs_background": "light"
     },
     "output_type": "display_data"
    },
    {
     "data": {
      "image/png": "[encoded data removed]",
      "text/plain": [
       "<Figure size 432x288 with 1 Axes>"
      ]
     },
     "metadata": {
      "needs_background": "light"
     },
     "output_type": "display_data"
    }
   ],
   "source": [
    "import pandas as pd\n",
    "import numpy as np\n",
    "# In this cell we convert pyspark dataframe to pandas to simply show the scatter plot.\n",
    "sampled_data = boston_housing.select(['lstat', 'rm', 'medv']).toPandas()\n",
    "\n",
    "ax1 = sampled_data.plot.scatter(x='medv', y='lstat')\n",
    "ax2 = sampled_data.plot.scatter(x='medv', y='rm')\n"
   ]
  },
  {
   "cell_type": "markdown",
   "id": "91363f99",
   "metadata": {},
   "source": [
    "***The correlation coefficient ranges from –1 to 1. When it is close to 1, it means that there is a strong positive correlation; for example, the median value (MEDV) tends to go up when the number of rooms (RM) goes up. When the coefficient is close to –1, it means that there is a strong negative correlation; the median value (MEDV) tends to go down when the percentage of the lower status of the population (LSTAT) goes up.***"
   ]
  },
  {
   "cell_type": "markdown",
   "id": "d353993e",
   "metadata": {},
   "source": [
    "### Section 3\n",
    "Create a regression model using a polynomial function of degree two on the three selected variables. Use 70% of the data for training;"
   ]
  },
  {
   "cell_type": "markdown",
   "id": "f2815fba",
   "metadata": {},
   "source": [
    "y = a * x^2 + b * x + c\n",
    "\n",
    "24 = a * 43.230 + b * 6.575 + c"
   ]
  },
  {
   "cell_type": "code",
   "execution_count": 59,
   "id": "8c5c3933",
   "metadata": {},
   "outputs": [
    {
     "name": "stdout",
     "output_type": "stream",
     "text": [
      "+----+--------------------+\n",
      "|medv|         rm_features|\n",
      "+----+--------------------+\n",
      "|24.0|   [6.575,43.230625]|\n",
      "|21.6|   [6.421,41.229241]|\n",
      "|34.7|[7.185,51.6242249...|\n",
      "|33.4|[6.998,48.9720040...|\n",
      "|36.2|[7.147,51.0796090...|\n",
      "|28.7|[6.43,41.34489999...|\n",
      "|22.9|   [6.012,36.144144]|\n",
      "|27.1|   [6.172,38.093584]|\n",
      "|16.5|[5.631,31.7081610...|\n",
      "|18.9|   [6.004,36.048016]|\n",
      "|15.0|   [6.377,40.666129]|\n",
      "|18.9|[6.009,36.1080810...|\n",
      "|21.7|   [5.889,34.680321]|\n",
      "|20.4|   [5.949,35.390601]|\n",
      "|18.2|   [6.096,37.161216]|\n",
      "|19.9|[5.834,34.0355559...|\n",
      "|23.1|   [5.935,35.224225]|\n",
      "|17.5|[5.99,35.88010000...|\n",
      "|20.2|[5.456,29.7679360...|\n",
      "|18.2|   [5.727,32.798529]|\n",
      "+----+--------------------+\n",
      "only showing top 20 rows\n",
      "\n",
      "+----+--------------------+\n",
      "|medv|      lstat_features|\n",
      "+----+--------------------+\n",
      "|24.0|[4.98,24.80040000...|\n",
      "|21.6|[9.14,83.53960000...|\n",
      "|34.7|[4.03,16.24090000...|\n",
      "|33.4|       [2.94,8.6436]|\n",
      "|36.2|      [5.33,28.4089]|\n",
      "|28.7|[5.21,27.14409999...|\n",
      "|22.9|    [12.43,154.5049]|\n",
      "|27.1|[19.15,366.722499...|\n",
      "|16.5|    [29.93,895.8049]|\n",
      "|18.9|       [17.1,292.41]|\n",
      "|15.0|    [20.45,418.2025]|\n",
      "|18.9|    [13.27,176.0929]|\n",
      "|21.7|[15.71,246.804100...|\n",
      "|20.4|      [8.26,68.2276]|\n",
      "|18.2|    [10.26,105.2676]|\n",
      "|19.9|[8.47,71.74090000...|\n",
      "|23.1|      [6.58,43.2964]|\n",
      "|17.5|    [14.67,215.2089]|\n",
      "|20.2|[11.69,136.656099...|\n",
      "|18.2|[11.28,127.238399...|\n",
      "+----+--------------------+\n",
      "only showing top 20 rows\n",
      "\n"
     ]
    }
   ],
   "source": [
    "boston_housing = boston_housing.withColumn(\"lstat2\", col(\"lstat\")*col(\"lstat\"))\n",
    "boston_housing = boston_housing.withColumn(\"rm2\", col(\"rm\")*col(\"rm\"))\n",
    "\n",
    "rmAssembler = VectorAssembler(inputCols = ['rm', 'rm2'] , outputCol='rm_features')\n",
    "lstatAssembler = VectorAssembler(inputCols = ['lstat', 'lstat2'] , outputCol='lstat_features')\n",
    "\n",
    "df_rm = rmAssembler.transform(boston_housing).select(['medv', 'rm_features'])\n",
    "df_lstat = lstatAssembler.transform(boston_housing).select(['medv', 'lstat_features'])\n",
    "\n",
    "df_rm.show()\n",
    "df_lstat.show()\n",
    "\n",
    "df_training_lstat, df_test_lstat = df_lstat.randomSplit([0.7, 0.3])\n",
    "df_training_rm, df_test_rm = df_rm.randomSplit([0.7, 0.3])\n"
   ]
  },
  {
   "cell_type": "markdown",
   "id": "3a720d46",
   "metadata": {},
   "source": [
    "#### Create a regression model\n",
    "maxIter : It is the maximum number of iterations to perform before giving up."
   ]
  },
  {
   "cell_type": "code",
   "execution_count": 67,
   "id": "9357682d",
   "metadata": {},
   "outputs": [
    {
     "name": "stdout",
     "output_type": "stream",
     "text": [
      "Coefficients: [-2.2351180521255425,0.04157823991747413]\n",
      "Intercept: 42.08551735603595\n",
      "r2: 0.6449056821423346\n"
     ]
    }
   ],
   "source": [
    "from pyspark.ml.regression import LinearRegression\n",
    "from pyspark.ml.evaluation import RegressionEvaluator\n",
    "\n",
    "pr = LinearRegression(featuresCol=\"lstat_features\", labelCol=\"medv\", maxIter=30)\n",
    "prModel = pr.fit(df_training_lstat)\n",
    "\n",
    "\n",
    "print(\"Coefficients: \" + str(prModel.coefficients))\n",
    "print(\"Intercept: \" + str(prModel.intercept)) # Describe Intercept \n",
    "\n",
    "print(\"r2:\", prModel.summary.r2)"
   ]
  },
  {
   "cell_type": "code",
   "execution_count": 63,
   "id": "7a4eca2e",
   "metadata": {},
   "outputs": [
    {
     "data": {
      "image/png": "[encoded data removed]",
      "text/plain": [
       "<Figure size 432x288 with 1 Axes>"
      ]
     },
     "metadata": {
      "needs_background": "light"
     },
     "output_type": "display_data"
    }
   ],
   "source": [
    "import numpy as np\n",
    "from matplotlib import pyplot as plt\n",
    "\n",
    "x = np.linspace(0, 50, 100)\n",
    "fx = []\n",
    "for i in range(len(x)):\n",
    "    fx.append(0.04*x[i]*x[i] - 2.24*x[i] + 43.78)\n",
    "plt.plot(x, fx)\n",
    "plt.show()"
   ]
  },
  {
   "cell_type": "markdown",
   "id": "f9825270",
   "metadata": {},
   "source": [
    "***R squared at 0.65 indicates that in our model, approximate 65% of the variability in “MV” can be explained using the model.***"
   ]
  },
  {
   "cell_type": "markdown",
   "id": "7c653ba9",
   "metadata": {},
   "source": [
    "### Compute the R-Squared value of the model using the remaining 30% of the test data"
   ]
  },
  {
   "cell_type": "code",
   "execution_count": 71,
   "id": "cf801595",
   "metadata": {},
   "outputs": [
    {
     "name": "stdout",
     "output_type": "stream",
     "text": [
      "+----+--------------------+------------------+\n",
      "|medv|      lstat_features|        prediction|\n",
      "+----+--------------------+------------------+\n",
      "| 5.0|    [22.98,528.0804]|12.679158085106685|\n",
      "| 5.0|    [30.59,935.7481]|12.620015145636174|\n",
      "| 5.6|    [26.77,716.6329]|12.047741749590418|\n",
      "| 7.2|    [30.81,949.2561]|12.689928038973797|\n",
      "| 8.4|[22.74,517.107599...|12.759356706650355|\n",
      "| 8.7|    [26.45,699.6025]|12.054885469180046|\n",
      "| 9.5|[24.08,579.846399...| 12.37286739533656|\n",
      "| 9.6|    [18.05,325.8025]|15.287931025882774|\n",
      "|10.2|    [15.69,246.1761]|17.252084065934294|\n",
      "|10.2|[30.62,937.584400...|12.629311726032867|\n",
      "|10.4|[17.21,296.184100...| 15.93394924849651|\n",
      "|10.5|[22.11,488.852099...|12.992667121501256|\n",
      "|10.5|    [28.28,799.7584]|12.128925473140846|\n",
      "|11.7|    [15.17,230.1289]|17.747131121435885|\n",
      "|11.9|    [23.34,544.7556]|12.567841052613357|\n",
      "|12.1|[20.31,412.496099...|13.841131528188583|\n",
      "|12.5|    [19.37,375.1969]| 14.39130741085674|\n",
      "|12.6|[16.44,270.273600...| 16.57767716325147|\n",
      "|12.7|[16.35,267.322500...|16.656136244122308|\n",
      "|13.3|    [21.32,454.5424]|13.331873444583877|\n",
      "+----+--------------------+------------------+\n",
      "only showing top 20 rows\n",
      "\n",
      "+------------------+----+--------------------+\n",
      "|        prediction|medv|      lstat_features|\n",
      "+------------------+----+--------------------+\n",
      "|12.679158085106685| 5.0|    [22.98,528.0804]|\n",
      "|12.620015145636174| 5.0|    [30.59,935.7481]|\n",
      "|12.047741749590418| 5.6|    [26.77,716.6329]|\n",
      "|12.689928038973797| 7.2|    [30.81,949.2561]|\n",
      "|12.759356706650355| 8.4|[22.74,517.107599...|\n",
      "+------------------+----+--------------------+\n",
      "only showing top 5 rows\n",
      "\n",
      "R2 on test data: 0.6283239443543438\n"
     ]
    }
   ],
   "source": [
    "pr_predictions = prModel.transform(df_test_lstat)\n",
    "pr_predictions.show()\n",
    "\n",
    "pr_predictions.select(\"prediction\", \"medv\", \"lstat_features\").show(5)\n",
    "\n",
    "pr_evaluator = RegressionEvaluator(predictionCol=\"prediction\", labelCol=\"medv\",metricName=\"r2\")\n",
    "\n",
    "print(\"R2 on test data:\", pr_evaluator.evaluate(pr_predictions))\n"
   ]
  },
  {
   "cell_type": "markdown",
   "id": "cae2ab7e",
   "metadata": {},
   "source": [
    "**Sure enough, we achieved worse R squared on the test set.**"
   ]
  },
  {
   "cell_type": "code",
   "execution_count": null,
   "id": "cd75e727",
   "metadata": {},
   "outputs": [],
   "source": []
  }
 ],
 "metadata": {
  "kernelspec": {
   "display_name": "Python 3 (ipykernel)",
   "language": "python",
   "name": "python3"
  },
  "language_info": {
   "codemirror_mode": {
    "name": "ipython",
    "version": 3
   },
   "file_extension": ".py",
   "mimetype": "text/x-python",
   "name": "python",
   "nbconvert_exporter": "python",
   "pygments_lexer": "ipython3",
   "version": "3.9.7"
  }
 },
 "nbformat": 4,
 "nbformat_minor": 5
}
