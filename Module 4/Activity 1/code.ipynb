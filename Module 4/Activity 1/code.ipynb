{
 "cells": [
  {
   "cell_type": "code",
   "execution_count": 1,
   "metadata": {},
   "outputs": [
    {
     "name": "stdout",
     "output_type": "stream",
     "text": [
      "Collecting pyspark\n",
      "  Using cached pyspark-3.2.1-py2.py3-none-any.whl\n",
      "Collecting py4j==0.10.9.3\n",
      "  Using cached py4j-0.10.9.3-py2.py3-none-any.whl (198 kB)\n",
      "Installing collected packages: py4j, pyspark\n",
      "Successfully installed py4j-0.10.9.3 pyspark-3.2.1\n"
     ]
    }
   ],
   "source": [
    "!pip install pyspark"
   ]
  },
  {
   "cell_type": "code",
   "execution_count": 2,
   "metadata": {},
   "outputs": [
    {
     "data": {
      "text/plain": [
       "[]"
      ]
     },
     "execution_count": 2,
     "metadata": {},
     "output_type": "execute_result"
    }
   ],
   "source": [
    "#import necessary packages\n",
    "from pyspark.sql import SQLContext\n",
    "from pyspark import SparkContext\n",
    "\n",
    "#create spark context\n",
    "SparkContext.getOrCreate()\n",
    "sc = SparkContext.getOrCreate(\"accident\")\n",
    "\n",
    "#create sql context\n",
    "sqlCtx = SQLContext(sc)"
   ]
  },
  {
   "cell_type": "markdown",
   "metadata": {},
   "source": [
    "Load the data from the csv files into DataFrames."
   ]
  },
  {
   "cell_type": "code",
   "execution_count": 4,
   "metadata": {},
   "outputs": [
    {
     "data": {
      "text/plain": [
       "[]"
      ]
     },
     "execution_count": 4,
     "metadata": {},
     "output_type": "execute_result"
    }
   ],
   "source": [
    "crashes = sqlCtx.read.option('header','true').csv('data/Traffic_Crashes_-_Crashes.csv')\n",
    "vehicles = sqlCtx.read.option('header','true').csv('data/Traffic_Crashes_-_Vehicles.csv')\n",
    "peoples = sqlCtx.read.option('header','true').csv('data/Traffic_Crashes_-_People.csv')\n",
    "print(type(crashes))\n",
    "peoples.dtypes\n"
   ]
  },
  {
   "cell_type": "markdown",
   "metadata": {},
   "source": [
    "Find the ratio of number of crashes where the person involved was using cell phone to that where the person was not using the cell phone."
   ]
  },
  {
   "cell_type": "code",
   "execution_count": 1,
   "metadata": {
    "tags": []
   },
   "outputs": [
    {
     "ename": "NameError",
     "evalue": "name 'peoples' is not defined",
     "output_type": "error",
     "traceback": [
      "\u001B[1;31m---------------------------------------------------------------------------\u001B[0m",
      "\u001B[1;31mNameError\u001B[0m                                 Traceback (most recent call last)",
      "Input \u001B[1;32mIn [1]\u001B[0m, in \u001B[0;36m<cell line: 1>\u001B[1;34m()\u001B[0m\n\u001B[1;32m----> 1\u001B[0m \u001B[43mpeoples\u001B[49m\u001B[38;5;241m.\u001B[39mcreateOrReplaceTempView(\u001B[38;5;124m\"\u001B[39m\u001B[38;5;124mPERSON_DATA\u001B[39m\u001B[38;5;124m\"\u001B[39m)\n\u001B[0;32m      2\u001B[0m groupDF \u001B[38;5;241m=\u001B[39m sqlCtx\u001B[38;5;241m.\u001B[39msql(\u001B[38;5;124m\"\u001B[39m\u001B[38;5;124mSELECT DRIVER_ACTION, count(*) from PERSON_DATA group by DRIVER_ACTION\u001B[39m\u001B[38;5;124m\"\u001B[39m)\n\u001B[0;32m      3\u001B[0m groupDF\u001B[38;5;241m.\u001B[39msort(\u001B[38;5;124m\"\u001B[39m\u001B[38;5;124mcount(1)\u001B[39m\u001B[38;5;124m\"\u001B[39m,\u001B[38;5;124m\"\u001B[39m\u001B[38;5;124mDRIVER_ACTION\u001B[39m\u001B[38;5;124m\"\u001B[39m)\u001B[38;5;241m.\u001B[39mshow(\u001B[38;5;241m30\u001B[39m, truncate\u001B[38;5;241m=\u001B[39m\u001B[38;5;28;01mTrue\u001B[39;00m)\n",
      "\u001B[1;31mNameError\u001B[0m: name 'peoples' is not defined"
     ]
    }
   ],
   "source": [
    "peoples.createOrReplaceTempView(\"PERSON_DATA\")\n",
    "groupDF = sqlCtx.sql(\"SELECT DRIVER_ACTION, count(*) from PERSON_DATA group by DRIVER_ACTION\")\n",
    "groupDF.sort(\"count(1)\",\"DRIVER_ACTION\").show(30, truncate=True)"
   ]
  },
  {
   "cell_type": "code",
   "execution_count": 14,
   "metadata": {
    "tags": []
   },
   "outputs": [
    {
     "name": "stdout",
     "output_type": "stream",
     "text": [
      "crashes that occurs because of phone :  2125\n",
      "crashes that occurs because of other :  409788\n",
      "ratio:  0.5185608168125958\n"
     ]
    }
   ],
   "source": [
    "from pyspark.sql.types import StringType\n",
    "\n",
    "phone = peoples.groupby(\"DRIVER_ACTION\").count().filter((peoples.DRIVER_ACTION == 'CELL PHONE USE OTHER THAN TEXTING') | (peoples.DRIVER_ACTION == 'TEXTING'))\n",
    "\n",
    "phone_crashes = phone.groupBy().sum('count').collect()[0][0]\n",
    "print(\"crashes that occurs because of phone : \", phone_crashes)\n",
    "\n",
    "no_phone = peoples.where((peoples.DRIVER_ACTION != \"UNKNOWN\") & (peoples.DRIVER_ACTION != \"NONE\"))\\\n",
    ".groupby(\"DRIVER_ACTION\")\\\n",
    ".count()\\\n",
    ".filter((peoples.DRIVER_ACTION != 'CELL PHONE USE OTHER THAN TEXTING') & (peoples.DRIVER_ACTION != 'TEXTING'))\n",
    "\n",
    "no_phone_crashes = no_phone.groupBy().sum('count').collect()[0][0]\n",
    "print(\"crashes that occurs because of other : \", no_phone_crashes)\n",
    "\n",
    "print(\"ratio: \", 100 * phone_crashes/no_phone_crashes)"
   ]
  },
  {
   "cell_type": "markdown",
   "metadata": {},
   "source": [
    "*bring in package to convert age code to int for sorting"
   ]
  },
  {
   "cell_type": "code",
   "execution_count": 6,
   "metadata": {
    "tags": []
   },
   "outputs": [
    {
     "name": "stdout",
     "output_type": "stream",
     "text": [
      "+----------------+-----+\n",
      "|CAST(AGE AS INT)|count|\n",
      "+----------------+-----+\n",
      "|25              |26799|\n",
      "|26              |26603|\n",
      "|27              |26494|\n",
      "+----------------+-----+\n",
      "\n"
     ]
    }
   ],
   "source": [
    "from pyspark.sql.types import IntegerType\n",
    "\n",
    "age = peoples.where((peoples.AGE > 0)).groupby(peoples.AGE.cast(IntegerType())).count().orderBy(\"count\", ascending=False).limit(3)\n",
    "age.show(120, truncate=False)\n"
   ]
  },
  {
   "cell_type": "code",
   "execution_count": 196,
   "metadata": {},
   "outputs": [
    {
     "name": "stdout",
     "output_type": "stream",
     "text": [
      "+-----------+-----+\n",
      "|CRASH_MONTH|count|\n",
      "+-----------+-----+\n",
      "|10         |56788|\n",
      "+-----------+-----+\n",
      "\n"
     ]
    }
   ],
   "source": [
    "month = crashes.select((crashes.CRASH_MONTH).cast(IntegerType()))\\\n",
    "                    .groupby(\"CRASH_MONTH\")\\\n",
    "                    .count()\\\n",
    "                    .orderBy(\"count\", ascending=False).limit(1)\n",
    "month.show(truncate=False)\n"
   ]
  },
  {
   "cell_type": "code",
   "execution_count": 197,
   "metadata": {},
   "outputs": [
    {
     "name": "stdout",
     "output_type": "stream",
     "text": [
      "+-----------------+-----+\n",
      "|CRASH_DAY_OF_WEEK|count|\n",
      "+-----------------+-----+\n",
      "|1                |72848|\n",
      "+-----------------+-----+\n",
      "\n"
     ]
    }
   ],
   "source": [
    "from pyspark.sql.types import IntegerType\n",
    "\n",
    "df = crashes.select((crashes.CRASH_DAY_OF_WEEK).cast(IntegerType()))\\\n",
    "                    .groupby(\"CRASH_DAY_OF_WEEK\")\\\n",
    "                    .count()\\\n",
    "                    .orderBy(\"count\", ascending=True).limit(1)\n",
    "df.show(truncate=False)"
   ]
  }
 ],
 "metadata": {
  "kernelspec": {
   "display_name": "Python 3 (ipykernel)",
   "language": "python",
   "name": "python3"
  },
  "language_info": {
   "codemirror_mode": {
    "name": "ipython",
    "version": 3
   },
   "file_extension": ".py",
   "mimetype": "text/x-python",
   "name": "python",
   "nbconvert_exporter": "python",
   "pygments_lexer": "ipython3",
   "version": "3.9.6"
  }
 },
 "nbformat": 4,
 "nbformat_minor": 4
}
