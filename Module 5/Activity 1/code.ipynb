{
 "cells": [
  {
   "cell_type": "code",
   "execution_count": 5,
   "metadata": {},
   "outputs": [
    {
     "name": "stdout",
     "output_type": "stream",
     "text": [
      "Requirement already satisfied: pyspark in d:\\users\\rezaz\\pycharmprojects\\bigdata_introduction\\venv\\lib\\site-packages (3.2.1)\n",
      "Requirement already satisfied: py4j==0.10.9.3 in d:\\users\\rezaz\\pycharmprojects\\bigdata_introduction\\venv\\lib\\site-packages (from pyspark) (0.10.9.3)\n",
      "Requirement already satisfied: py4j in d:\\users\\rezaz\\pycharmprojects\\bigdata_introduction\\venv\\lib\\site-packages (0.10.9.3)\n"
     ]
    }
   ],
   "source": [
    "!pip3 install pyspark \n",
    "!pip3 install py4j"
   ]
  },
  {
   "cell_type": "code",
   "execution_count": 2,
   "metadata": {},
   "outputs": [
    {
     "name": "stderr",
     "output_type": "stream",
     "text": [
      "d:\\users\\rezaz\\pycharmprojects\\bigdata_introduction\\venv\\lib\\site-packages\\pyspark\\sql\\context.py:77: FutureWarning: Deprecated in 3.0.0. Use SparkSession.builder.getOrCreate() instead.\n",
      "  warnings.warn(\n"
     ]
    }
   ],
   "source": [
    "#import necessary packages\n",
    "from pyspark.sql import SQLContext\n",
    "from pyspark.sql import functions as func\n",
    "from pyspark import SparkContext\n",
    "from pyspark.sql.types import StringType, IntegerType\n",
    "\n",
    "#create spark context\n",
    "SparkContext.getOrCreate()\n",
    "sc = SparkContext.getOrCreate(\"bank_analyze\")\n",
    "\n",
    "#create sql context\n",
    "sqlCtx = SQLContext(sc)"
   ]
  },
  {
   "cell_type": "code",
   "execution_count": 16,
   "metadata": {},
   "outputs": [
    {
     "name": "stdout",
     "output_type": "stream",
     "text": [
      "+---+-------------+-------+---------+-------+-------+-------+----+--------+---+-----+--------+--------+-----+--------+--------+---+\n",
      "|age|          job|marital|education|default|balance|housing|loan| contact|day|month|duration|campaign|pdays|previous|poutcome|  y|\n",
      "+---+-------------+-------+---------+-------+-------+-------+----+--------+---+-----+--------+--------+-----+--------+--------+---+\n",
      "| 30|   unemployed|married|  primary|     no|   1787|     no|  no|cellular| 19|  oct|      79|       1|   -1|       0| unknown| no|\n",
      "| 33|     services|married|secondary|     no|   4789|    yes| yes|cellular| 11|  may|     220|       1|  339|       4| failure| no|\n",
      "| 35|   management| single| tertiary|     no|   1350|    yes|  no|cellular| 16|  apr|     185|       1|  330|       1| failure| no|\n",
      "| 30|   management|married| tertiary|     no|   1476|    yes| yes| unknown|  3|  jun|     199|       4|   -1|       0| unknown| no|\n",
      "| 59|  blue-collar|married|secondary|     no|      0|    yes|  no| unknown|  5|  may|     226|       1|   -1|       0| unknown| no|\n",
      "| 35|   management| single| tertiary|     no|    747|     no|  no|cellular| 23|  feb|     141|       2|  176|       3| failure| no|\n",
      "| 36|self-employed|married| tertiary|     no|    307|    yes|  no|cellular| 14|  may|     341|       1|  330|       2|   other| no|\n",
      "| 39|   technician|married|secondary|     no|    147|    yes|  no|cellular|  6|  may|     151|       2|   -1|       0| unknown| no|\n",
      "| 41| entrepreneur|married| tertiary|     no|    221|    yes|  no| unknown| 14|  may|      57|       2|   -1|       0| unknown| no|\n",
      "| 43|     services|married|  primary|     no|    -88|    yes| yes|cellular| 17|  apr|     313|       1|  147|       2| failure| no|\n",
      "| 39|     services|married|secondary|     no|   9374|    yes|  no| unknown| 20|  may|     273|       1|   -1|       0| unknown| no|\n",
      "| 43|       admin.|married|secondary|     no|    264|    yes|  no|cellular| 17|  apr|     113|       2|   -1|       0| unknown| no|\n",
      "| 36|   technician|married| tertiary|     no|   1109|     no|  no|cellular| 13|  aug|     328|       2|   -1|       0| unknown| no|\n",
      "| 20|      student| single|secondary|     no|    502|     no|  no|cellular| 30|  apr|     261|       1|   -1|       0| unknown|yes|\n",
      "| 31|  blue-collar|married|secondary|     no|    360|    yes| yes|cellular| 29|  jan|      89|       1|  241|       1| failure| no|\n",
      "| 40|   management|married| tertiary|     no|    194|     no| yes|cellular| 29|  aug|     189|       2|   -1|       0| unknown| no|\n",
      "| 56|   technician|married|secondary|     no|   4073|     no|  no|cellular| 27|  aug|     239|       5|   -1|       0| unknown| no|\n",
      "| 37|       admin.| single| tertiary|     no|   2317|    yes|  no|cellular| 20|  apr|     114|       1|  152|       2| failure| no|\n",
      "| 25|  blue-collar| single|  primary|     no|   -221|    yes|  no| unknown| 23|  may|     250|       1|   -1|       0| unknown| no|\n",
      "| 31|     services|married|secondary|     no|    132|     no|  no|cellular|  7|  jul|     148|       1|  152|       1|   other| no|\n",
      "+---+-------------+-------+---------+-------+-------+-------+----+--------+---+-----+--------+--------+-----+--------+--------+---+\n",
      "only showing top 20 rows\n",
      "\n"
     ]
    },
    {
     "data": {
      "text/plain": [
       "[('age', 'string'),\n",
       " ('job', 'string'),\n",
       " ('marital', 'string'),\n",
       " ('education', 'string'),\n",
       " ('default', 'string'),\n",
       " ('balance', 'string'),\n",
       " ('housing', 'string'),\n",
       " ('loan', 'string'),\n",
       " ('contact', 'string'),\n",
       " ('day', 'string'),\n",
       " ('month', 'string'),\n",
       " ('duration', 'string'),\n",
       " ('campaign', 'string'),\n",
       " ('pdays', 'string'),\n",
       " ('previous', 'string'),\n",
       " ('poutcome', 'string'),\n",
       " ('y', 'string')]"
      ]
     },
     "execution_count": 16,
     "metadata": {},
     "output_type": "execute_result"
    }
   ],
   "source": [
    "bank_data = sqlCtx.read.option('header','true').options(delimiter=\";\").csv('bank.csv')\n",
    "bank_data.show()\n",
    "bank_data.dtypes\n"
   ]
  },
  {
   "cell_type": "markdown",
   "metadata": {},
   "source": [
    "## TASK 1\n",
    "\n",
    "### Calculate the mean, median and standard deviation of all the variables/attributes of *numeric* type;"
   ]
  },
  {
   "cell_type": "code",
   "execution_count": 17,
   "metadata": {},
   "outputs": [
    {
     "name": "stdout",
     "output_type": "stream",
     "text": [
      "+-------------+------------------+------------------+------------------+------------------+------------------+-------------------+\n",
      "|          job|          avg(age)|      avg(balance)|     avg(duration)|     avg(campaign)|        avg(pdays)|      avg(previous)|\n",
      "+-------------+------------------+------------------+------------------+------------------+------------------+-------------------+\n",
      "|   management| 40.54076367389061|1766.9287925696594|260.53663570691435|2.9731682146542826| 40.96800825593395| 0.5490196078431373|\n",
      "|      retired|61.869565217391305| 2319.191304347826| 285.6565217391304| 2.465217391304348|35.073913043478264|  0.591304347826087|\n",
      "|      unknown| 48.10526315789474|1501.7105263157894|216.92105263157896|2.5526315789473686| 36.23684210526316|                0.5|\n",
      "|self-employed| 41.45355191256831|1392.4098360655737| 264.1256830601093| 3.278688524590164|28.256830601092897| 0.5901639344262295|\n",
      "|      student|26.821428571428573|1543.8214285714287| 248.6904761904762| 2.392857142857143|45.714285714285715| 0.9642857142857143|\n",
      "|  blue-collar| 40.15644820295983| 1085.161733615222|  278.161733615222| 2.846723044397463| 41.59090909090909|0.49365750528541225|\n",
      "| entrepreneur| 42.01190476190476|          1645.125| 285.4761904761905|2.5892857142857144|32.273809523809526|0.42857142857142855|\n",
      "|       admin.| 39.68200836820084|  1226.73640167364| 234.6694560669456|2.6317991631799162| 49.99372384937239| 0.6443514644351465|\n",
      "|   technician|39.470052083333336|     1330.99609375|252.17838541666666|2.7317708333333335|         39.265625| 0.5768229166666666|\n",
      "|     services| 38.57074340527578|1103.9568345323742|262.48681055155873|2.8225419664268587| 36.37170263788969|0.44364508393285373|\n",
      "|    housemaid|47.339285714285715|2083.8035714285716|292.63392857142856|               2.5|26.401785714285715|0.35714285714285715|\n",
      "|   unemployed|          40.90625|       1089.421875|        301.265625|         2.6796875|            36.625|           0.484375|\n",
      "+-------------+------------------+------------------+------------------+------------------+------------------+-------------------+\n",
      "\n"
     ]
    }
   ],
   "source": [
    "bank_data.groupby(bank_data.job).agg(func.mean(\"age\"), func.mean(\"balance\"), func.mean(\"duration\"), func.mean(\"campaign\"), func.mean(\"pdays\"), func.mean(\"previous\")).show()"
   ]
  },
  {
   "cell_type": "code",
   "execution_count": 18,
   "metadata": {},
   "outputs": [
    {
     "name": "stdout",
     "output_type": "stream",
     "text": [
      "+-------------+------------------+--------------------+---------------------+---------------------+------------------+---------------------+\n",
      "|          job|  stddev_samp(age)|stddev_samp(balance)|stddev_samp(duration)|stddev_samp(campaign)|stddev_samp(pdays)|stddev_samp(previous)|\n",
      "+-------------+------------------+--------------------+---------------------+---------------------+------------------+---------------------+\n",
      "|   management| 9.192424108277843|  3267.7330773742206|   254.51641666642917|   3.1966056334827178| 102.5178980959738|   1.6076783632482152|\n",
      "|      retired| 9.789506670827368|   5846.379888960141|   242.51248439675342|    2.491226297994322| 81.06835068285172|    1.631543069938389|\n",
      "|      unknown|10.399556834851603|  1957.2582575922954|   201.96713427830716|   2.1270124768824603|124.06394040444266|   1.3100443565834772|\n",
      "|self-employed| 9.406963515892004|  2479.6409992088907|    278.1774683492458|    4.154163068303217| 78.98062528316358|   2.3041556999172945|\n",
      "|      student| 5.282753741300273|   2579.886670531924|   208.09051414439568|   2.5836271185640727| 96.79260793100917|   2.1195954863646875|\n",
      "|  blue-collar|  9.03812300045691|   2040.218219538872|   265.34893520125763|   3.5006839605993423|106.05065517120326|   1.8305063182043209|\n",
      "| entrepreneur| 8.357998854579414|   4441.303620172448|    313.8270424985149|     2.72783469467476| 90.33892950551838|    1.306691340118416|\n",
      "|       admin.| 9.442495636250026|   2370.119127996389|   236.87417501361935|    2.818476272078167|108.89620566542293|    1.723885565908583|\n",
      "|   technician| 8.671561155791943|  2630.2533895187134|    246.1355785463242|   2.5722277621902685| 95.65688501743408|   1.6693679556853023|\n",
      "|     services| 9.207825250310243|   2445.239976239857|    259.9974397870344|   3.2220947354807032|100.99137656078435|   1.5150888996134135|\n",
      "|    housemaid|11.008230803864235|   4603.836646860761|   277.94859838284106|   1.8158461656476568| 71.40185222588417|    0.975900072948533|\n",
      "|   unemployed| 9.765306983010875|   1692.267628400393|     351.177423008801|    3.982112749385544|110.51026959083651|   1.6552677781322378|\n",
      "+-------------+------------------+--------------------+---------------------+---------------------+------------------+---------------------+\n",
      "\n"
     ]
    }
   ],
   "source": [
    "bank_data.groupby(bank_data.job).agg(func.stddev(\"age\"), func.stddev(\"balance\"), func.stddev(\"duration\"), func.stddev(\"campaign\"), func.stddev(\"pdays\"), func.stddev(\"previous\")).show()"
   ]
  },
  {
   "cell_type": "code",
   "execution_count": 19,
   "metadata": {},
   "outputs": [
    {
     "name": "stdout",
     "output_type": "stream",
     "text": [
      "+-------------+----------+--------------+---------------+---------------+------------+---------------+\n",
      "|          job|age median|balance median|duration median|campaign median|pdays median|previous median|\n",
      "+-------------+----------+--------------+---------------+---------------+------------+---------------+\n",
      "|   management|      38.0|         577.0|          176.0|            2.0|        -1.0|            0.0|\n",
      "|      retired|      59.0|         665.0|          205.0|            2.0|        -1.0|            0.0|\n",
      "|      unknown|      49.0|         634.0|          147.0|            2.0|        -1.0|            0.0|\n",
      "|self-employed|      40.0|         483.0|          174.0|            2.0|        -1.0|            0.0|\n",
      "|      student|      26.0|         386.0|          192.0|            2.0|        -1.0|            0.0|\n",
      "|  blue-collar|      39.0|         407.0|          203.0|            2.0|        -1.0|            0.0|\n",
      "| entrepreneur|      41.0|         355.0|          193.0|            2.0|        -1.0|            0.0|\n",
      "|       admin.|      38.0|         428.0|          161.0|            2.0|        -1.0|            0.0|\n",
      "|   technician|      38.0|         434.0|          181.0|            2.0|        -1.0|            0.0|\n",
      "|     services|      37.0|         288.0|          185.0|            2.0|        -1.0|            0.0|\n",
      "|    housemaid|      49.0|         287.0|          182.0|            2.0|        -1.0|            0.0|\n",
      "|   unemployed|      41.0|         461.0|          206.0|            2.0|        -1.0|            0.0|\n",
      "+-------------+----------+--------------+---------------+---------------+------------+---------------+\n",
      "\n",
      "+---+-------------------+\n",
      "|key|              value|\n",
      "+---+-------------------+\n",
      "|  0| -0.548526047771831|\n",
      "|  0|-0.5224480195716871|\n",
      "|  0| 1.0872260173387922|\n",
      "|  0|  2.384479054241165|\n",
      "|  1| 10.192093404129352|\n",
      "|  1| 11.907968332171668|\n",
      "|  1| 12.060084179317831|\n",
      "|  2|  19.58294134171013|\n",
      "|  2|  20.20963383826634|\n",
      "|  2| 20.733733653328656|\n",
      "+---+-------------------+\n",
      "\n",
      "+------------------+\n",
      "|         quantiles|\n",
      "+------------------+\n",
      "|10.192093404129352|\n",
      "+------------------+\n",
      "\n"
     ]
    }
   ],
   "source": [
    "bank_data.groupby(bank_data.job).agg(func.percentile_approx(\"age\", 0.5).alias(\"age median\"), \\\n",
    "                                     func.percentile_approx(\"balance\", 0.5).alias(\"balance median\"), \\\n",
    "                                     func.percentile_approx(\"duration\", 0.5).alias(\"duration median\"), \\\n",
    "                                     func.percentile_approx(\"campaign\", 0.5).alias(\"campaign median\"), \\\n",
    "                                     func.percentile_approx(\"pdays\", 0.5).alias(\"pdays median\"), \\\n",
    "                                     func.percentile_approx(\"previous\", 0.5).alias(\"previous median\")).show()\n",
    "\n",
    "\n",
    "key = (func.col(\"id\") % 3).alias(\"key\")\n",
    "value = (func.randn(42) + key * 10).alias(\"value\")\n",
    "df = sqlCtx.range(0, 10, 1, 1).select(key, value)\n",
    "df.orderBy(\"value\").show()\n",
    "df.select(func.percentile_approx(\"value\", 0.5, 1000000).alias(\"quantiles\")).show(truncate=True)"
   ]
  },
  {
   "cell_type": "markdown",
   "metadata": {},
   "source": [
    "***Returns the approximate percentile of the numeric column col which is the smallest value in the ordered col values (sorted from least to greatest) such that no more than percentage of col values is less than the value or equal to that value. The value of percentage must be between 0.0 and 1.0.***\n",
    "\n",
    "The accuracy parameter (default: 10000) is a positive numeric literal which controls approximation accuracy at the cost of memory. Higher value of accuracy yields better accuracy, 1.0/accuracy is the relative error of the approximation.\n"
   ]
  },
  {
   "cell_type": "markdown",
   "metadata": {},
   "source": [
    "## Task 2\n",
    "\n",
    "### Create a bar graph of the variable/attribute: previous;"
   ]
  },
  {
   "cell_type": "code",
   "execution_count": 20,
   "metadata": {},
   "outputs": [],
   "source": [
    "import matplotlib.pyplot as plt"
   ]
  },
  {
   "cell_type": "code",
   "execution_count": 21,
   "metadata": {},
   "outputs": [
    {
     "data": {
      "image/png": "[encoded data removed]",
      "text/plain": [
       "<Figure size 432x288 with 1 Axes>"
      ]
     },
     "metadata": {
      "needs_background": "light"
     },
     "output_type": "display_data"
    }
   ],
   "source": [
    "bank_data = sqlCtx.read.option('header','true').options(delimiter=\";\").csv('bank.csv')\n",
    "bank_data = bank_data.groupBy(func.col('previous')).count().orderBy(\"count\", ascending=False)\n",
    "\n",
    "fig = plt.figure()\n",
    "ax = fig.add_axes([0,0,2,1])\n",
    "count = 0\n",
    "for _ in bank_data.collect():\n",
    "    ax.bar(_[0], _[1])\n",
    "    count += 1"
   ]
  },
  {
   "cell_type": "markdown",
   "metadata": {},
   "source": [
    "## Task 3\n",
    "\n",
    "### Create a **normalised** bar graph of the variable/attribute: previous;\n",
    "Add normalised columns to the input dataframe.\n",
    "formula = [(X - mean) / std_dev]"
   ]
  },
  {
   "cell_type": "code",
   "execution_count": 15,
   "metadata": {},
   "outputs": [
    {
     "name": "stdout",
     "output_type": "stream",
     "text": [
      "+--------+-----+\n",
      "|previous|count|\n",
      "+--------+-----+\n",
      "|       0| 3705|\n",
      "|       1|  286|\n",
      "|       2|  193|\n",
      "|       3|  113|\n",
      "|       4|   78|\n",
      "+--------+-----+\n",
      "only showing top 5 rows\n",
      "\n",
      "[Row(avg(count)=188.375, stddev_samp(count)=752.3032929379063)]\n"
     ]
    },
    {
     "data": {
      "text/plain": [
       "<Figure size 432x288 with 0 Axes>"
      ]
     },
     "metadata": {},
     "output_type": "display_data"
    },
    {
     "data": {
      "image/png": "[encoded data removed]",
      "text/plain": [
       "<Figure size 432x288 with 1 Axes>"
      ]
     },
     "metadata": {
      "needs_background": "light"
     },
     "output_type": "display_data"
    }
   ],
   "source": [
    "bank_data = bank_data.groupBy(func.col('previous')).count().orderBy(\"count\", ascending=False)\n",
    "bank_data.show(5)\n",
    "\n",
    "mean_stddev = bank_data.groupBy().agg(func.mean('count'), func.stddev('count'))\n",
    "mean_stddev_collect = mean_stddev.collect()\n",
    "print(list(mean_stddev_collect))\n",
    "\n",
    "bank_data = bank_data.withColumn('count', ((bank_data['count'] - mean_stddev_collect[0][0])/mean_stddev_collect[0][1]))\n",
    "\n",
    "plt.clf()\n",
    "fig = plt.figure()\n",
    "ax = fig.add_axes([0,0,2,1])\n",
    "\n",
    "for _ in bank_data.collect():\n",
    "    ax.bar(_[0], _[1])\n"
   ]
  },
  {
   "cell_type": "markdown",
   "metadata": {},
   "source": [
    "## Task 4\n",
    "\n",
    "### Create a histogram of the variable/attribute: age;"
   ]
  },
  {
   "cell_type": "code",
   "execution_count": 69,
   "metadata": {},
   "outputs": [
    {
     "data": {
      "text/plain": [
       "(array([ 111.,  944., 1235.,  869.,  612.,  576.,  100.,   36.,   30.,\n",
       "           8.]),\n",
       " array([19. , 25.8, 32.6, 39.4, 46.2, 53. , 59.8, 66.6, 73.4, 80.2, 87. ]),\n",
       " <BarContainer object of 10 artists>)"
      ]
     },
     "execution_count": 69,
     "metadata": {},
     "output_type": "execute_result"
    },
    {
     "data": {
      "image/png": "[encoded data removed]",
      "text/plain": [
       "<Figure size 432x288 with 1 Axes>"
      ]
     },
     "metadata": {
      "needs_background": "light"
     },
     "output_type": "display_data"
    }
   ],
   "source": [
    "import numpy as np\n",
    "import statistics\n",
    "\n",
    "bank_data = sqlCtx.read.option('header','true').options(delimiter=\";\").csv('bank.csv')\n",
    "data = bank_data.select(bank_data.age.cast(IntegerType())).collect()\n",
    "counts, bins = np.histogram(data) # Auto range data\n",
    "\n",
    "fig = plt.figure()\n",
    "ax = fig.add_axes([0,0,2,1])\n",
    "plt.hist(bins[:-1], bins, weights=counts)"
   ]
  },
  {
   "cell_type": "markdown",
   "metadata": {},
   "source": [
    "## Task 5\n",
    "\n",
    "### Create a histogram of the **normalised** variable/attribute: age;"
   ]
  },
  {
   "cell_type": "code",
   "execution_count": 70,
   "metadata": {},
   "outputs": [
    {
     "data": {
      "text/plain": [
       "(array([-0.75040809,  1.08270023,  1.72307781,  0.91765446,  0.35209764,\n",
       "         0.27287567, -0.7746148 , -0.91545385, -0.92865752, -0.97707094]),\n",
       " array([19. , 25.8, 32.6, 39.4, 46.2, 53. , 59.8, 66.6, 73.4, 80.2, 87. ]),\n",
       " <BarContainer object of 10 artists>)"
      ]
     },
     "execution_count": 70,
     "metadata": {},
     "output_type": "execute_result"
    },
    {
     "data": {
      "image/png": "[encoded data removed]",
      "text/plain": [
       "<Figure size 432x288 with 1 Axes>"
      ]
     },
     "metadata": {
      "needs_background": "light"
     },
     "output_type": "display_data"
    }
   ],
   "source": [
    "bank_data = sqlCtx.read.option('header','true').options(delimiter=\";\").csv('bank.csv')\n",
    "data = bank_data.select(bank_data.age.cast(IntegerType())).collect()\n",
    "counts, bins = np.histogram(data) # Auto range data\n",
    "stddev = statistics.stdev(counts)\n",
    "mean = statistics.mean(counts)\n",
    "counts_norm = [(i - mean)/stddev for i in counts]\n",
    "\n",
    "fig = plt.figure()\n",
    "ax = fig.add_axes([0,0,2,1])\n",
    "plt.hist(bins[:-1], bins, weights=counts_norm)"
   ]
  },
  {
   "cell_type": "markdown",
   "metadata": {},
   "source": [
    "## Task 6\n",
    "\n",
    "### Bin the variable/attribute age and create a bar chart;"
   ]
  },
  {
   "cell_type": "code",
   "execution_count": 56,
   "metadata": {},
   "outputs": [
    {
     "data": {
      "image/png": "[encoded data removed]",
      "text/plain": [
       "<Figure size 432x288 with 1 Axes>"
      ]
     },
     "metadata": {
      "needs_background": "light"
     },
     "output_type": "display_data"
    }
   ],
   "source": [
    "fig = plt.figure()\n",
    "ax = fig.add_axes([0,0,3,2])\n",
    "for _ in range(len(counts)):\n",
    "    ax.bar(bins[_], counts[_], width=5)\n",
    "    count += 1"
   ]
  },
  {
   "cell_type": "markdown",
   "metadata": {},
   "source": [
    "## Task 7\n",
    "\n",
    "### Create a scatter plot for the following variables/attributes: age and balance;"
   ]
  },
  {
   "cell_type": "code",
   "execution_count": 14,
   "metadata": {},
   "outputs": [
    {
     "data": {
      "image/png": "[encoded data removed]",
      "text/plain": [
       "<Figure size 432x288 with 1 Axes>"
      ]
     },
     "metadata": {
      "needs_background": "light"
     },
     "output_type": "display_data"
    }
   ],
   "source": [
    "data = bank_data.select(bank_data.age.cast(IntegerType()), func.col(\"balance\").cast(IntegerType())).collect()\n",
    "\n",
    "fig = plt.figure()\n",
    "ax = fig.add_axes([0,0,3,2])\n",
    "\n",
    "age = [_[0] for _ in data]\n",
    "balance = [_[1] for _ in data]\n",
    "plt.scatter(age, balance, c =\"blue\")\n",
    " \n",
    "# To show the plot\n",
    "plt.show()"
   ]
  }
 ],
 "metadata": {
  "kernelspec": {
   "display_name": "Python 3 (ipykernel)",
   "language": "python",
   "name": "python3"
  },
  "language_info": {
   "codemirror_mode": {
    "name": "ipython",
    "version": 3
   },
   "file_extension": ".py",
   "mimetype": "text/x-python",
   "name": "python",
   "nbconvert_exporter": "python",
   "pygments_lexer": "ipython3",
   "version": "3.9.6"
  }
 },
 "nbformat": 4,
 "nbformat_minor": 4
}