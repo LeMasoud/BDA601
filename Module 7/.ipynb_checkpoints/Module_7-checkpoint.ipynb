{
 "cells": [
  {
   "cell_type": "markdown",
   "id": "0038f496-8959-4fde-977c-b77fabea5a67",
   "metadata": {},
   "source": [
    "##### PySpark MLlib API provides a DecisionTreeClassifier model to implement classification with decision tree method. \n",
    "\n",
    "A decision tree method is one of the well known and powerful supervised machine learning algorithms that can be used for classification and regression tasks. It is a tree-like, top-down flow learning method to extract rules from the training data. The branches of the tree are based on certain decision outcomes."
   ]
  },
  {
   "cell_type": "code",
   "execution_count": 1,
   "id": "01cd8805-4a3e-459f-81e4-1c57098658e0",
   "metadata": {},
   "outputs": [
    {
     "name": "stderr",
     "output_type": "stream",
     "text": [
      "d:\\users\\rezaz\\pycharmprojects\\bigdata_introduction\\venv\\lib\\site-packages\\pyspark\\sql\\context.py:77: FutureWarning: Deprecated in 3.0.0. Use SparkSession.builder.getOrCreate() instead.\n",
      "  warnings.warn(\n"
     ]
    }
   ],
   "source": [
    "#import necessary packages\\\n",
    "from pyspark.ml import Pipeline\n",
    "from pyspark.ml.classification import DecisionTreeClassifier\n",
    "from pyspark.ml.feature import StringIndexer, VectorAssembler\n",
    "from pyspark.ml.evaluation import BinaryClassificationEvaluator, MulticlassClassificationEvaluator\n",
    "from pyspark.sql.types import DoubleType\n",
    "from pyspark.sql import functions as func\n",
    "from pyspark.mllib.util import MLUtils\n",
    "from pyspark.sql import SQLContext\n",
    "from pyspark import SparkContext\n",
    "\n",
    "#create spark context\n",
    "SparkContext.getOrCreate()\n",
    "sc = SparkContext.getOrCreate(\"ch6\")\n",
    "sqlCtx = SQLContext(sc)"
   ]
  },
  {
   "cell_type": "markdown",
   "id": "322bfd0b-d181-46c4-beca-fedda144154a",
   "metadata": {},
   "source": [
    "# Model 1\n",
    "## Training Dataset"
   ]
  },
  {
   "cell_type": "markdown",
   "id": "94aa33c4-2e61-4c7b-91b1-22a058d3583f",
   "metadata": {},
   "source": [
    "### Preparing the data\n",
    "\n",
    "We use ch6_training dataset to perform classification and it can be easily loaded from the DSPR_Data_Sets folder. Below code explains how to load dataset"
   ]
  },
  {
   "cell_type": "code",
   "execution_count": 2,
   "id": "827b45af-2cdc-44a4-9bce-29e249d2ebe2",
   "metadata": {},
   "outputs": [
    {
     "name": "stdout",
     "output_type": "stream",
     "text": [
      "column types: [('Marital status', 'string'), ('Income', 'string'), ('Cap_Gains_Losses', 'string')]\n",
      "Rows : 18761\n",
      "column types: [('Marital status', 'string'), ('Income', 'string'), ('Cap_Gains_Losses', 'string'), ('Cap_Gains_Losses_Double', 'double')]\n",
      "+--------------+------+----------------+-----------------------+\n",
      "|Marital status|Income|Cap_Gains_Losses|Cap_Gains_Losses_Double|\n",
      "+--------------+------+----------------+-----------------------+\n",
      "| Never-married| <=50K|        0.021740|                0.02174|\n",
      "|      Divorced| <=50K|        0.000000|                    0.0|\n",
      "|       Married| <=50K|        0.000000|                    0.0|\n",
      "|       Married| <=50K|        0.000000|                    0.0|\n",
      "|       Married| <=50K|        0.000000|                    0.0|\n",
      "|       Married|  >50K|        0.000000|                    0.0|\n",
      "| Never-married|  >50K|        0.140841|               0.140841|\n",
      "|       Married|  >50K|        0.051781|               0.051781|\n",
      "|       Married|  >50K|        0.000000|                    0.0|\n",
      "| Never-married| <=50K|        0.000000|                    0.0|\n",
      "+--------------+------+----------------+-----------------------+\n",
      "only showing top 10 rows\n",
      "\n"
     ]
    }
   ],
   "source": [
    "ch6_training = sqlCtx.read.option('header','true').options(delimiter=\",\").csv('DSPR_Data_Sets/adult_ch6_training')\n",
    "print(\"column types:\", ch6_training.dtypes)\n",
    "print(\"Rows :\", ch6_training.count())\n",
    "# Use withColumn() to convert the data type of a DataFrame column, \n",
    "# This function takes column name you wanted to convert as a first argument and \n",
    "# for the second argument apply the casting method cast() with DataType on the column.\n",
    "ch6_training = ch6_training.withColumn(\"Cap_Gains_Losses_Double\",func.col(\"Cap_Gains_Losses\").cast(DoubleType()))\n",
    "print(\"column types:\", ch6_training.dtypes)\n",
    "\n",
    "# Show Data Frame\n",
    "ch6_training.show(10)"
   ]
  },
  {
   "cell_type": "code",
   "execution_count": 3,
   "id": "519788a2-94dc-464e-9cdc-212301d86d72",
   "metadata": {},
   "outputs": [
    {
     "name": "stdout",
     "output_type": "stream",
     "text": [
      "[('Marital status', 'string'), ('Income', 'string'), ('Cap_Gains_Losses', 'string'), ('Cap_Gains_Losses_Double', 'double'), ('indexedLabel', 'double')]\n",
      "+--------------+------+----------------+-----------------------+------------+\n",
      "|Marital status|Income|Cap_Gains_Losses|Cap_Gains_Losses_Double|indexedLabel|\n",
      "+--------------+------+----------------+-----------------------+------------+\n",
      "| Never-married| <=50K|        0.021740|                0.02174|         0.0|\n",
      "|      Divorced| <=50K|        0.000000|                    0.0|         0.0|\n",
      "|       Married| <=50K|        0.000000|                    0.0|         0.0|\n",
      "|       Married| <=50K|        0.000000|                    0.0|         0.0|\n",
      "|       Married| <=50K|        0.000000|                    0.0|         0.0|\n",
      "|       Married|  >50K|        0.000000|                    0.0|         1.0|\n",
      "| Never-married|  >50K|        0.140841|               0.140841|         1.0|\n",
      "|       Married|  >50K|        0.051781|               0.051781|         1.0|\n",
      "|       Married|  >50K|        0.000000|                    0.0|         1.0|\n",
      "| Never-married| <=50K|        0.000000|                    0.0|         0.0|\n",
      "+--------------+------+----------------+-----------------------+------------+\n",
      "only showing top 10 rows\n",
      "\n"
     ]
    }
   ],
   "source": [
    "# Index labels, adding metadata to the Income column.\n",
    "# Fit on whole dataset to include all labels in index.\n",
    "incomeIndexer = StringIndexer(inputCol=\"Income\", outputCol=\"indexedLabel\")\n",
    "\n",
    "# Run the indexer.\n",
    "incomeIndexer_fit = incomeIndexer.fit(ch6_training)\n",
    "\n",
    "# Transformer : A Transformer is an algorithm which can transform one DataFrame into another DataFrame . \n",
    "# E.g., an ML model is a Transformer which transforms DataFrame with features into a DataFrame with predictions.\n",
    "dataframe_training = incomeIndexer_fit.transform(ch6_training)\n",
    "print(dataframe_training.dtypes)\n",
    "\n",
    "# Show Data Frame\n",
    "dataframe_training.show(10)"
   ]
  },
  {
   "cell_type": "code",
   "execution_count": 4,
   "id": "147d6fc4-9cd3-4df0-8485-11f1cf46f958",
   "metadata": {},
   "outputs": [
    {
     "name": "stdout",
     "output_type": "stream",
     "text": [
      "[('Marital status', 'string'), ('Income', 'string'), ('Cap_Gains_Losses', 'string'), ('Cap_Gains_Losses_Double', 'double'), ('indexedLabel', 'double'), ('Marital feature', 'double')]\n",
      "+--------------+------+----------------+-----------------------+------------+---------------+\n",
      "|Marital status|Income|Cap_Gains_Losses|Cap_Gains_Losses_Double|indexedLabel|Marital feature|\n",
      "+--------------+------+----------------+-----------------------+------------+---------------+\n",
      "| Never-married| <=50K|        0.021740|                0.02174|         0.0|            1.0|\n",
      "|      Divorced| <=50K|        0.000000|                    0.0|         0.0|            2.0|\n",
      "|       Married| <=50K|        0.000000|                    0.0|         0.0|            0.0|\n",
      "|       Married| <=50K|        0.000000|                    0.0|         0.0|            0.0|\n",
      "|       Married| <=50K|        0.000000|                    0.0|         0.0|            0.0|\n",
      "+--------------+------+----------------+-----------------------+------------+---------------+\n",
      "only showing top 5 rows\n",
      "\n"
     ]
    }
   ],
   "source": [
    "# Index labels, adding metadata to the Marital status column.\n",
    "# Fit on whole dataset to include all labels in index.\n",
    "maritalIndexer = StringIndexer(inputCol=\"Marital status\", outputCol=\"Marital feature\")\n",
    "\n",
    "# Run the indexer.\n",
    "maritalIndexer_fit = maritalIndexer.fit(dataframe_training)\n",
    "\n",
    "# Transformer : A Transformer is an algorithm which can transform one DataFrame into another DataFrame . \n",
    "# E.g., an ML model is a Transformer which transforms DataFrame with features into a DataFrame with predictions.\n",
    "dataframe_training = maritalIndexer_fit.transform(dataframe_training)\n",
    "print(dataframe_training.dtypes)\n",
    "\n",
    "# Show Data Frame\n",
    "dataframe_training.show(5)"
   ]
  },
  {
   "cell_type": "code",
   "execution_count": 5,
   "id": "0580fac3-8730-45c7-9d1a-942255aba340",
   "metadata": {},
   "outputs": [
    {
     "name": "stdout",
     "output_type": "stream",
     "text": [
      "+--------------+------+----------------+-----------------------+------------+---------------+-------------+\n",
      "|Marital status|Income|Cap_Gains_Losses|Cap_Gains_Losses_Double|indexedLabel|Marital feature|     features|\n",
      "+--------------+------+----------------+-----------------------+------------+---------------+-------------+\n",
      "| Never-married| <=50K|        0.021740|                0.02174|         0.0|            1.0|[0.02174,1.0]|\n",
      "|      Divorced| <=50K|        0.000000|                    0.0|         0.0|            2.0|    [0.0,2.0]|\n",
      "|       Married| <=50K|        0.000000|                    0.0|         0.0|            0.0|    (2,[],[])|\n",
      "|       Married| <=50K|        0.000000|                    0.0|         0.0|            0.0|    (2,[],[])|\n",
      "|       Married| <=50K|        0.000000|                    0.0|         0.0|            0.0|    (2,[],[])|\n",
      "+--------------+------+----------------+-----------------------+------------+---------------+-------------+\n",
      "only showing top 5 rows\n",
      "\n"
     ]
    }
   ],
   "source": [
    "# vector features,\n",
    "# Fit on whole dataset to include all features\n",
    "featureAssembler = VectorAssembler(inputCols = ['Cap_Gains_Losses_Double', 'Marital feature'] , outputCol='features')\n",
    "dataframe_training = featureAssembler.transform(dataframe_training)\n",
    "dataframe_training.show(5)"
   ]
  },
  {
   "cell_type": "code",
   "execution_count": 6,
   "id": "3db98868-4997-4a04-a53f-ca26ba4ea58f",
   "metadata": {},
   "outputs": [
    {
     "name": "stdout",
     "output_type": "stream",
     "text": [
      "+------------+-------------+\n",
      "|indexedLabel|     features|\n",
      "+------------+-------------+\n",
      "|         0.0|[0.02174,1.0]|\n",
      "|         0.0|    [0.0,2.0]|\n",
      "|         0.0|    (2,[],[])|\n",
      "|         0.0|    (2,[],[])|\n",
      "|         0.0|    (2,[],[])|\n",
      "+------------+-------------+\n",
      "only showing top 5 rows\n",
      "\n"
     ]
    }
   ],
   "source": [
    "dataframe_training_output = dataframe_training.select(['indexedLabel', 'features'])\n",
    "dataframe_training_output.show(5)"
   ]
  },
  {
   "cell_type": "markdown",
   "id": "363c1d93-d639-4c3f-b9b2-c88d69744b12",
   "metadata": {},
   "source": [
    "## Test Dataset"
   ]
  },
  {
   "cell_type": "code",
   "execution_count": 7,
   "id": "cdae208d-fcb4-4e5a-85b6-bc093e9dba39",
   "metadata": {},
   "outputs": [],
   "source": [
    "ch6_test = sqlCtx.read.option('header','true').options(delimiter=\",\").csv('DSPR_Data_Sets/adult_ch6_test')\n",
    "ch6_test = ch6_test.withColumn(\"Cap_Gains_Losses_Double\",func.col(\"Cap_Gains_Losses\").cast(DoubleType()))"
   ]
  },
  {
   "cell_type": "code",
   "execution_count": 8,
   "id": "beb9c9b8-517f-4db3-9617-177bbfd2c066",
   "metadata": {},
   "outputs": [],
   "source": [
    "incomeIndexer_test = StringIndexer(inputCol=\"Income\", outputCol=\"indexedLabel\")\n",
    "incomeIndexer_fit = incomeIndexer_test.fit(ch6_test)\n",
    "dataframe_test = incomeIndexer_fit.transform(ch6_test)"
   ]
  },
  {
   "cell_type": "code",
   "execution_count": 9,
   "id": "7987f5c3-aefe-4dfd-847b-6e7a86fd2ade",
   "metadata": {},
   "outputs": [],
   "source": [
    "maritalIndexer = StringIndexer(inputCol=\"Marital status\", outputCol=\"Marital feature\")\n",
    "maritalIndexer_fit = maritalIndexer.fit(dataframe_test)\n",
    "dataframe_test = maritalIndexer_fit.transform(dataframe_test)"
   ]
  },
  {
   "cell_type": "code",
   "execution_count": 10,
   "id": "4cc01761-9367-4cd4-b316-10a028a12052",
   "metadata": {},
   "outputs": [],
   "source": [
    "featureAssembler = VectorAssembler(inputCols = ['Cap_Gains_Losses_Double', 'Marital feature'] , outputCol='features')\n",
    "dataframe_test = featureAssembler.transform(dataframe_test)"
   ]
  },
  {
   "cell_type": "code",
   "execution_count": 11,
   "id": "1f5b4062-1ad9-407c-aca7-1e3b5c5d1edc",
   "metadata": {},
   "outputs": [
    {
     "name": "stdout",
     "output_type": "stream",
     "text": [
      "+------------+--------------+\n",
      "|indexedLabel|      features|\n",
      "+------------+--------------+\n",
      "|         0.0|     (2,[],[])|\n",
      "|         1.0|[0.051781,0.0]|\n",
      "|         0.0|     [0.0,1.0]|\n",
      "|         1.0|     [0.0,2.0]|\n",
      "|         1.0|     (2,[],[])|\n",
      "|         0.0|     (2,[],[])|\n",
      "|         0.0|[0.468779,0.0]|\n",
      "|         0.0|     [0.0,1.0]|\n",
      "|         0.0|     (2,[],[])|\n",
      "|         0.0|     [0.0,1.0]|\n",
      "|         1.0|     (2,[],[])|\n",
      "|         0.0|     (2,[],[])|\n",
      "|         1.0|[0.436639,0.0]|\n",
      "|         0.0|     (2,[],[])|\n",
      "|         0.0|     [0.0,2.0]|\n",
      "|         0.0|     [0.0,1.0]|\n",
      "|         1.0|     (2,[],[])|\n",
      "|         0.0|     [0.0,2.0]|\n",
      "|         0.0|     [0.0,2.0]|\n",
      "|         1.0|[0.150242,0.0]|\n",
      "+------------+--------------+\n",
      "only showing top 20 rows\n",
      "\n"
     ]
    }
   ],
   "source": [
    "dataframe_test = dataframe_test.select(['indexedLabel', 'features'])\n",
    "dataframe_test.show()"
   ]
  },
  {
   "cell_type": "markdown",
   "id": "1c6e88ea-1483-4f7b-9d04-54ea43a4899d",
   "metadata": {},
   "source": [
    "# Prediction and Accuracy Check"
   ]
  },
  {
   "cell_type": "code",
   "execution_count": 12,
   "id": "80c64785-63ba-4982-a4d7-1ba213d9afef",
   "metadata": {},
   "outputs": [
    {
     "name": "stdout",
     "output_type": "stream",
     "text": [
      "+------------+--------------+---------------+--------------------+----------+\n",
      "|indexedLabel|      features|  rawPrediction|         probability|prediction|\n",
      "+------------+--------------+---------------+--------------------+----------+\n",
      "|         0.0|     (2,[],[])|[4778.0,2811.0]|[0.62959546712346...|       0.0|\n",
      "|         1.0|[0.051781,0.0]| [233.0,1048.0]|[0.18188914910226...|       1.0|\n",
      "|         0.0|     [0.0,1.0]| [8951.0,424.0]|[0.95477333333333...|       0.0|\n",
      "|         1.0|     [0.0,2.0]| [8951.0,424.0]|[0.95477333333333...|       0.0|\n",
      "|         1.0|     (2,[],[])|[4778.0,2811.0]|[0.62959546712346...|       0.0|\n",
      "|         0.0|     (2,[],[])|[4778.0,2811.0]|[0.62959546712346...|       0.0|\n",
      "|         0.0|[0.468779,0.0]| [233.0,1048.0]|[0.18188914910226...|       1.0|\n",
      "|         0.0|     [0.0,1.0]| [8951.0,424.0]|[0.95477333333333...|       0.0|\n",
      "|         0.0|     (2,[],[])|[4778.0,2811.0]|[0.62959546712346...|       0.0|\n",
      "|         0.0|     [0.0,1.0]| [8951.0,424.0]|[0.95477333333333...|       0.0|\n",
      "+------------+--------------+---------------+--------------------+----------+\n",
      "only showing top 10 rows\n",
      "\n"
     ]
    }
   ],
   "source": [
    "# Create DecisionTreeClassifier\n",
    "dtc = DecisionTreeClassifier(featuresCol=\"features\", labelCol=\"indexedLabel\")\n",
    "\n",
    "# Fit dataframe to the DecisionTreeClassifier \n",
    "dtc = dtc.fit(dataframe_training)\n",
    "\n",
    "# Make predictions.\n",
    "pred = dtc.transform(dataframe_test)\n",
    "pred.show(10)"
   ]
  },
  {
   "cell_type": "markdown",
   "id": "03fe5e8c-6a2d-4157-af50-68ff0cd08623",
   "metadata": {},
   "source": [
    "# Classification model evaluation\n",
    "While there are many different types of classification algorithms, the evaluation of classification models all share similar principles. In a supervised classification problem, there exists a true output and a model-generated predicted output for each data point. For this reason, the results for each data point can be assigned to one of four categories:\n",
    "\n",
    "* True Positive (TP) - label is positive and prediction is also positive\n",
    "* True Negative (TN) - label is negative and prediction is also negative\n",
    "* False Positive (FP) - label is negative but prediction is positive\n",
    "* False Negative (FN) - label is positive but prediction is negative\n",
    "\n",
    "source : https://spark.apache.org/docs/2.2.0/mllib-evaluation-metrics.html#:~:text=the%20F%2Dmeasure.-,Binary%20classification,-Binary%20classifiers%20are\n",
    "\n",
    "#### F1 score  \n",
    "is defined as the harmonic mean between precision and recall. It is used as a statistical measure to rate performance. In other words, an F1-score (from 0 to 9, 0 being lowest and 9 being the highest) is a mean of an individual's performance, based on two factors i.e. precision and recall.\n",
    "\n",
    "#### Recall \n",
    "literally is how many of the true positives were recalled (found), i.e. how many of the correct hits were also found. \n",
    "\n",
    "#### Precision \n",
    "is how many of the returned hits were true positive i.e. how many of the found were correct hits."
   ]
  },
  {
   "cell_type": "code",
   "execution_count": 13,
   "id": "1e2658c7-6648-4c6e-80d6-d895bb0c6223",
   "metadata": {},
   "outputs": [
    {
     "name": "stdout",
     "output_type": "stream",
     "text": [
      "True Positives: 375\n",
      "True Negatives: 4603\n",
      "False Positives: 71\n",
      "False Negatives: 1106\n",
      "Accuracy: 0.8087733549959383\n",
      "Recall: 0.25320729237002026\n",
      "Precision: 0.8408071748878924\n",
      "F1 score: 0.3892060197197717\n"
     ]
    }
   ],
   "source": [
    "tp = pred.filter((pred.indexedLabel == 1) & (pred.prediction == 1)).count()\n",
    "tn = pred.filter((pred.indexedLabel == 0) & (pred.prediction == 0)).count()\n",
    "fp = pred.filter((pred.indexedLabel == 0) & (pred.prediction == 1)).count()\n",
    "fn = pred.filter((pred.indexedLabel == 1) & (pred.prediction == 0)).count()\n",
    "\n",
    "print(\"True Positives:\", tp)\n",
    "print(\"True Negatives:\", tn)\n",
    "print(\"False Positives:\", fp)\n",
    "print(\"False Negatives:\", fn)\n",
    "\n",
    "a = ((tp + tn)/pred.count())\n",
    "r = float(tp) / (tp + fn)\n",
    "p = float(tp) / (tp + fp)\n",
    "f1 = 2 * ((p * r)/(p + r))\n",
    "\n",
    "print(\"Accuracy:\", a)\n",
    "print(\"Recall:\", r)\n",
    "print(\"Precision:\", p)\n",
    "print(\"F1 score:\", f1)"
   ]
  },
  {
   "cell_type": "markdown",
   "id": "2f1b804b-d97f-41cc-9f42-467fa855509a",
   "metadata": {},
   "source": [
    "# Model 2\n",
    "## Training Dataset"
   ]
  },
  {
   "cell_type": "markdown",
   "id": "b5fdf5d0-9b63-4777-8440-070916d726c4",
   "metadata": {},
   "source": [
    "### Preparing the data\n",
    "\n",
    "We use ch3_training dataset to perform classification and it can be easily loaded from the DSPR_Data_Sets folder. Below code explains how to load dataset"
   ]
  },
  {
   "cell_type": "code",
   "execution_count": 16,
   "id": "f96b672f-90cc-4daa-8286-3197e3d960b4",
   "metadata": {},
   "outputs": [
    {
     "name": "stdout",
     "output_type": "stream",
     "text": [
      "Training count : 10402\n",
      "Test count : 4395\n",
      "+---+----+--------------------+------+\n",
      "| id| age|      marital-status|income|\n",
      "+---+----+--------------------+------+\n",
      "|  0|50.0|  Married-civ-spouse| <=50K|\n",
      "|  1|38.0|            Divorced| <=50K|\n",
      "|  2|49.0|Married-spouse-ab...| <=50K|\n",
      "|  3|52.0|  Married-civ-spouse|  >50K|\n",
      "|  4|31.0|       Never-married|  >50K|\n",
      "+---+----+--------------------+------+\n",
      "only showing top 5 rows\n",
      "\n",
      "+---+----+------------------+------+\n",
      "| id| age|    marital-status|income|\n",
      "+---+----+------------------+------+\n",
      "|  6|38.0|Married-civ-spouse| <=50K|\n",
      "|  7|43.0|Married-civ-spouse| <=50K|\n",
      "| 10|30.0|Married-civ-spouse| <=50K|\n",
      "| 16|44.0|          Divorced| <=50K|\n",
      "| 17|25.0|Married-civ-spouse| <=50K|\n",
      "+---+----+------------------+------+\n",
      "only showing top 5 rows\n",
      "\n"
     ]
    }
   ],
   "source": [
    "from pyspark.sql.functions import monotonically_increasing_id \n",
    "\n",
    "ch3_read = sqlCtx.read.option('header','true').options(delimiter=\",\").csv('DSPR_Data_Sets/adult_ch3_training')\n",
    "\n",
    "ch3 = ch3_read.withColumn(\"age\",func.col(\"age\").cast(DoubleType()))\n",
    "ch3 = ch3.select(\"*\").withColumn(\"id\", monotonically_increasing_id())\n",
    "\n",
    "ch3_select = ch3.select([\"id\", \"age\", \"marital-status\", \"income\"])\n",
    "\n",
    "ch3_training, ch3_test = ch3_select.randomSplit([0.7, 0.3])\n",
    "\n",
    "print(\"Training count :\", ch3_training.count())\n",
    "print(\"Test count :\", ch3_test.count())\n",
    "\n",
    "ch3_training.show(5)\n",
    "ch3_test.show(5)"
   ]
  },
  {
   "cell_type": "code",
   "execution_count": 17,
   "id": "d6a76be7-3106-42e7-97cf-41d168f61ccf",
   "metadata": {},
   "outputs": [
    {
     "name": "stdout",
     "output_type": "stream",
     "text": [
      "+---+----+--------------------+------+------------+\n",
      "| id| age|      marital-status|income|indexedLabel|\n",
      "+---+----+--------------------+------+------------+\n",
      "|  0|50.0|  Married-civ-spouse| <=50K|         0.0|\n",
      "|  1|38.0|            Divorced| <=50K|         0.0|\n",
      "|  2|49.0|Married-spouse-ab...| <=50K|         0.0|\n",
      "|  3|52.0|  Married-civ-spouse|  >50K|         1.0|\n",
      "|  4|31.0|       Never-married|  >50K|         1.0|\n",
      "+---+----+--------------------+------+------------+\n",
      "only showing top 5 rows\n",
      "\n"
     ]
    }
   ],
   "source": [
    "# Index labels, adding metadata to the Income column.\n",
    "# Fit on whole dataset to include all labels in index.\n",
    "incomeIndexer = StringIndexer(inputCol=\"income\", outputCol=\"indexedLabel\")\n",
    "\n",
    "incomeIndexer_fit = incomeIndexer.fit(ch3_training)\n",
    "\n",
    "dataframe_training = incomeIndexer_fit.transform(ch3_training)\n",
    "\n",
    "dataframe_training.show(5)"
   ]
  },
  {
   "cell_type": "code",
   "execution_count": 18,
   "id": "ec5bac0e-f8fd-47ba-b58e-6ad0abe84c27",
   "metadata": {},
   "outputs": [
    {
     "name": "stdout",
     "output_type": "stream",
     "text": [
      "[('id', 'bigint'), ('age', 'double'), ('marital-status', 'string'), ('income', 'string'), ('indexedLabel', 'double'), ('Marital feature', 'double')]\n",
      "+---+----+--------------------+------+------------+---------------+\n",
      "| id| age|      marital-status|income|indexedLabel|Marital feature|\n",
      "+---+----+--------------------+------+------------+---------------+\n",
      "|  0|50.0|  Married-civ-spouse| <=50K|         0.0|            0.0|\n",
      "|  1|38.0|            Divorced| <=50K|         0.0|            2.0|\n",
      "|  2|49.0|Married-spouse-ab...| <=50K|         0.0|            5.0|\n",
      "|  3|52.0|  Married-civ-spouse|  >50K|         1.0|            0.0|\n",
      "|  4|31.0|       Never-married|  >50K|         1.0|            1.0|\n",
      "+---+----+--------------------+------+------------+---------------+\n",
      "only showing top 5 rows\n",
      "\n"
     ]
    }
   ],
   "source": [
    "# Index labels, adding metadata to the Marital status column.\n",
    "# Fit on whole dataset to include all labels in index.\n",
    "maritalIndexer = StringIndexer(inputCol=\"marital-status\", outputCol=\"Marital feature\")\n",
    "\n",
    "# Run the indexer.\n",
    "maritalIndexer_fit = maritalIndexer.fit(dataframe_training)\n",
    "\n",
    "# Transformer : A Transformer is an algorithm which can transform one DataFrame into another DataFrame . \n",
    "# E.g., an ML model is a Transformer which transforms DataFrame with features into a DataFrame with predictions.\n",
    "dataframe_training = maritalIndexer_fit.transform(dataframe_training)\n",
    "print(dataframe_training.dtypes)\n",
    "\n",
    "# Show Data Frame\n",
    "dataframe_training.show(5)"
   ]
  },
  {
   "cell_type": "code",
   "execution_count": 19,
   "id": "f1519801-5e32-489e-954d-731558f066a6",
   "metadata": {},
   "outputs": [
    {
     "name": "stdout",
     "output_type": "stream",
     "text": [
      "+---+----+--------------------+------+------------+---------------+----------+\n",
      "| id| age|      marital-status|income|indexedLabel|Marital feature|  features|\n",
      "+---+----+--------------------+------+------------+---------------+----------+\n",
      "|  0|50.0|  Married-civ-spouse| <=50K|         0.0|            0.0|[50.0,0.0]|\n",
      "|  1|38.0|            Divorced| <=50K|         0.0|            2.0|[38.0,2.0]|\n",
      "|  2|49.0|Married-spouse-ab...| <=50K|         0.0|            5.0|[49.0,5.0]|\n",
      "|  3|52.0|  Married-civ-spouse|  >50K|         1.0|            0.0|[52.0,0.0]|\n",
      "|  4|31.0|       Never-married|  >50K|         1.0|            1.0|[31.0,1.0]|\n",
      "+---+----+--------------------+------+------------+---------------+----------+\n",
      "only showing top 5 rows\n",
      "\n"
     ]
    }
   ],
   "source": [
    "# vector features,\n",
    "# Fit on whole dataset to include all features\n",
    "featureAssembler = VectorAssembler(inputCols = ['age', 'Marital feature'] , outputCol='features')\n",
    "dataframe_training = featureAssembler.transform(dataframe_training)\n",
    "dataframe_training.show(5)"
   ]
  },
  {
   "cell_type": "code",
   "execution_count": 20,
   "id": "d4b7c174-6ce9-4dd1-b817-a62614c007c3",
   "metadata": {},
   "outputs": [
    {
     "name": "stdout",
     "output_type": "stream",
     "text": [
      "+------------+----------+\n",
      "|indexedLabel|  features|\n",
      "+------------+----------+\n",
      "|         0.0|[50.0,0.0]|\n",
      "|         0.0|[38.0,2.0]|\n",
      "|         0.0|[49.0,5.0]|\n",
      "|         1.0|[52.0,0.0]|\n",
      "|         1.0|[31.0,1.0]|\n",
      "+------------+----------+\n",
      "only showing top 5 rows\n",
      "\n"
     ]
    }
   ],
   "source": [
    "dataframe_training_output = dataframe_training.select(['indexedLabel', 'features'])\n",
    "dataframe_training_output.show(5)"
   ]
  },
  {
   "cell_type": "markdown",
   "id": "4088f323-df5c-42f0-b351-084706c92228",
   "metadata": {},
   "source": [
    "## Test Dataset"
   ]
  },
  {
   "cell_type": "code",
   "execution_count": 21,
   "id": "8737d97d-c216-4969-a703-8762f7270f9d",
   "metadata": {},
   "outputs": [
    {
     "name": "stdout",
     "output_type": "stream",
     "text": [
      "+---+----+------------------+------+------------+\n",
      "| id| age|    marital-status|income|indexedLabel|\n",
      "+---+----+------------------+------+------------+\n",
      "|  6|38.0|Married-civ-spouse| <=50K|         0.0|\n",
      "|  7|43.0|Married-civ-spouse| <=50K|         0.0|\n",
      "| 10|30.0|Married-civ-spouse| <=50K|         0.0|\n",
      "| 16|44.0|          Divorced| <=50K|         0.0|\n",
      "| 17|25.0|Married-civ-spouse| <=50K|         0.0|\n",
      "+---+----+------------------+------+------------+\n",
      "only showing top 5 rows\n",
      "\n"
     ]
    }
   ],
   "source": [
    "incomeIndexer = StringIndexer(inputCol=\"income\", outputCol=\"indexedLabel\")\n",
    "\n",
    "incomeIndexer_fit = incomeIndexer.fit(ch3_test)\n",
    "\n",
    "dataframe_test = incomeIndexer_fit.transform(ch3_test)\n",
    "\n",
    "dataframe_test.show(5)"
   ]
  },
  {
   "cell_type": "code",
   "execution_count": 22,
   "id": "25c5c2d8-8d93-4e6f-b040-3405b4d289e6",
   "metadata": {},
   "outputs": [
    {
     "name": "stdout",
     "output_type": "stream",
     "text": [
      "[('id', 'bigint'), ('age', 'double'), ('marital-status', 'string'), ('income', 'string'), ('indexedLabel', 'double'), ('Marital feature', 'double')]\n",
      "+---+----+------------------+------+------------+---------------+\n",
      "| id| age|    marital-status|income|indexedLabel|Marital feature|\n",
      "+---+----+------------------+------+------------+---------------+\n",
      "|  6|38.0|Married-civ-spouse| <=50K|         0.0|            0.0|\n",
      "|  7|43.0|Married-civ-spouse| <=50K|         0.0|            0.0|\n",
      "| 10|30.0|Married-civ-spouse| <=50K|         0.0|            0.0|\n",
      "| 16|44.0|          Divorced| <=50K|         0.0|            2.0|\n",
      "| 17|25.0|Married-civ-spouse| <=50K|         0.0|            0.0|\n",
      "+---+----+------------------+------+------------+---------------+\n",
      "only showing top 5 rows\n",
      "\n"
     ]
    }
   ],
   "source": [
    "# Index labels, adding metadata to the Marital status column.\n",
    "# Fit on whole dataset to include all labels in index.\n",
    "maritalIndexer = StringIndexer(inputCol=\"marital-status\", outputCol=\"Marital feature\")\n",
    "\n",
    "# Run the indexer.\n",
    "maritalIndexer_fit = maritalIndexer.fit(dataframe_test)\n",
    "\n",
    "# Transformer : A Transformer is an algorithm which can transform one DataFrame into another DataFrame . \n",
    "# E.g., an ML model is a Transformer which transforms DataFrame with features into a DataFrame with predictions.\n",
    "dataframe_test = maritalIndexer_fit.transform(dataframe_test)\n",
    "print(dataframe_test.dtypes)\n",
    "\n",
    "# Show Data Frame\n",
    "dataframe_test.show(5)"
   ]
  },
  {
   "cell_type": "code",
   "execution_count": 23,
   "id": "5a121eb6-b45f-4140-90cb-049abc56f0e1",
   "metadata": {},
   "outputs": [
    {
     "name": "stdout",
     "output_type": "stream",
     "text": [
      "+---+----+------------------+------+------------+---------------+----------+\n",
      "| id| age|    marital-status|income|indexedLabel|Marital feature|  features|\n",
      "+---+----+------------------+------+------------+---------------+----------+\n",
      "|  6|38.0|Married-civ-spouse| <=50K|         0.0|            0.0|[38.0,0.0]|\n",
      "|  7|43.0|Married-civ-spouse| <=50K|         0.0|            0.0|[43.0,0.0]|\n",
      "| 10|30.0|Married-civ-spouse| <=50K|         0.0|            0.0|[30.0,0.0]|\n",
      "| 16|44.0|          Divorced| <=50K|         0.0|            2.0|[44.0,2.0]|\n",
      "| 17|25.0|Married-civ-spouse| <=50K|         0.0|            0.0|[25.0,0.0]|\n",
      "+---+----+------------------+------+------------+---------------+----------+\n",
      "only showing top 5 rows\n",
      "\n"
     ]
    }
   ],
   "source": [
    "# vector features,\n",
    "# Fit on whole dataset to include all features\n",
    "featureAssembler = VectorAssembler(inputCols = ['age', 'Marital feature'] , outputCol='features')\n",
    "dataframe_test = featureAssembler.transform(dataframe_test)\n",
    "dataframe_test.show(5)"
   ]
  },
  {
   "cell_type": "code",
   "execution_count": 24,
   "id": "c0738e2a-98cb-4ab9-8d00-ec66170e8599",
   "metadata": {},
   "outputs": [
    {
     "name": "stdout",
     "output_type": "stream",
     "text": [
      "+------------+----------+\n",
      "|indexedLabel|  features|\n",
      "+------------+----------+\n",
      "|         0.0|[38.0,0.0]|\n",
      "|         0.0|[43.0,0.0]|\n",
      "|         0.0|[30.0,0.0]|\n",
      "|         0.0|[44.0,2.0]|\n",
      "|         0.0|[25.0,0.0]|\n",
      "+------------+----------+\n",
      "only showing top 5 rows\n",
      "\n"
     ]
    }
   ],
   "source": [
    "dataframe_test_output = dataframe_test.select(['indexedLabel', 'features'])\n",
    "dataframe_test_output.show(5)"
   ]
  },
  {
   "cell_type": "code",
   "execution_count": 25,
   "id": "516b4ca5-776d-4e58-9e47-a72bc45e352b",
   "metadata": {},
   "outputs": [
    {
     "name": "stdout",
     "output_type": "stream",
     "text": [
      "+---+----+------------------+------+------------+---------------+----------+---------------+--------------------+----------+\n",
      "| id| age|    marital-status|income|indexedLabel|Marital feature|  features|  rawPrediction|         probability|prediction|\n",
      "+---+----+------------------+------+------------+---------------+----------+---------------+--------------------+----------+\n",
      "|  6|38.0|Married-civ-spouse| <=50K|         0.0|            0.0|[38.0,0.0]|[1115.0,1296.0]|[0.46246370800497...|       1.0|\n",
      "|  7|43.0|Married-civ-spouse| <=50K|         0.0|            0.0|[43.0,0.0]|[1115.0,1296.0]|[0.46246370800497...|       1.0|\n",
      "| 10|30.0|Married-civ-spouse| <=50K|         0.0|            0.0|[30.0,0.0]|  [545.0,162.0]|[0.77086280056577...|       0.0|\n",
      "| 16|44.0|          Divorced| <=50K|         0.0|            2.0|[44.0,2.0]| [2979.0,328.0]|[0.90081644995464...|       0.0|\n",
      "| 17|25.0|Married-civ-spouse| <=50K|         0.0|            0.0|[25.0,0.0]|  [545.0,162.0]|[0.77086280056577...|       0.0|\n",
      "| 21|43.0|Married-civ-spouse|  >50K|         1.0|            0.0|[43.0,0.0]|[1115.0,1296.0]|[0.46246370800497...|       1.0|\n",
      "| 22|35.0|Married-civ-spouse| <=50K|         0.0|            0.0|[35.0,0.0]|  [488.0,341.0]|[0.58866103739445...|       0.0|\n",
      "| 25|28.0|          Divorced| <=50K|         0.0|            2.0|[28.0,2.0]|  [2323.0,26.0]|[0.98893146019582...|       0.0|\n",
      "| 26|53.0|Married-civ-spouse|  >50K|         1.0|            0.0|[53.0,0.0]|[1115.0,1296.0]|[0.46246370800497...|       1.0|\n",
      "| 28|31.0|         Separated| <=50K|         0.0|            3.0|[31.0,3.0]| [2979.0,328.0]|[0.90081644995464...|       0.0|\n",
      "+---+----+------------------+------+------------+---------------+----------+---------------+--------------------+----------+\n",
      "only showing top 10 rows\n",
      "\n"
     ]
    }
   ],
   "source": [
    "# Create DecisionTreeClassifier\n",
    "dtc = DecisionTreeClassifier(featuresCol=\"features\", labelCol=\"indexedLabel\")\n",
    "\n",
    "# Fit dataframe to the DecisionTreeClassifier \n",
    "dtc = dtc.fit(dataframe_training)\n",
    "\n",
    "# Make predictions.\n",
    "pred = dtc.transform(dataframe_test)\n",
    "pred.show(10)\n",
    "\n",
    "## Search for rawPrediction"
   ]
  },
  {
   "cell_type": "markdown",
   "id": "a550fb47-e0d2-40fc-837f-2af94d718fd0",
   "metadata": {},
   "source": [
    "# Classification model evaluation\n",
    "While there are many different types of classification algorithms, the evaluation of classification models all share similar principles. In a supervised classification problem, there exists a true output and a model-generated predicted output for each data point. For this reason, the results for each data point can be assigned to one of four categories:\n",
    "\n",
    "* True Positive (TP) - label is positive and prediction is also positive\n",
    "* True Negative (TN) - label is negative and prediction is also negative\n",
    "* False Positive (FP) - label is negative but prediction is positive\n",
    "* False Negative (FN) - label is positive but prediction is negative\n",
    "\n",
    "source : https://spark.apache.org/docs/2.2.0/mllib-evaluation-metrics.html#:~:text=the%20F%2Dmeasure.-,Binary%20classification,-Binary%20classifiers%20are\n",
    "![Screenshot.png](attachment:f9050044-0cfe-4e64-98d6-1635ac9e2e1f.png)"
   ]
  },
  {
   "cell_type": "code",
   "execution_count": 26,
   "id": "15347d16-9658-4d06-b766-3deac9c70e8a",
   "metadata": {},
   "outputs": [
    {
     "name": "stdout",
     "output_type": "stream",
     "text": [
      "True Positives: 565\n",
      "True Negatives: 2839\n",
      "False Positives: 473\n",
      "False Negatives: 518\n",
      "Accuracy: 0.7745164960182025\n",
      "Recall: 0.5216989843028624\n",
      "Precision: 0.5443159922928709\n",
      "F1 score: 0.5327675624705328\n"
     ]
    }
   ],
   "source": [
    "tp = pred.filter((pred.indexedLabel == 1) & (pred.prediction == 1)).count()\n",
    "tn = pred.filter((pred.indexedLabel == 0) & (pred.prediction == 0)).count()\n",
    "fp = pred.filter((pred.indexedLabel == 0) & (pred.prediction == 1)).count()\n",
    "fn = pred.filter((pred.indexedLabel == 1) & (pred.prediction == 0)).count()\n",
    "\n",
    "print(\"True Positives:\", tp)\n",
    "print(\"True Negatives:\", tn)\n",
    "print(\"False Positives:\", fp)\n",
    "print(\"False Negatives:\", fn)\n",
    "\n",
    "a = ((tp + tn)/pred.count()) # a for accuracy\n",
    "r = float(tp) / (tp + fn) # r for recall\n",
    "p = float(tp) / (tp + fp) # p for precision\n",
    "f1 = 2 * ((p * r)/(p + r)) ### f1 for F1 score\n",
    "\n",
    "print(\"Accuracy:\", a)\n",
    "print(\"Recall:\", r)\n",
    "print(\"Precision:\", p)\n",
    "print(\"F1 score:\", f1)"
   ]
  },
  {
   "cell_type": "code",
   "execution_count": null,
   "id": "57e27a32-bcfe-48b4-874a-c920a71fa0d6",
   "metadata": {},
   "outputs": [],
   "source": []
  }
 ],
 "metadata": {
  "kernelspec": {
   "display_name": "Python 3 (ipykernel)",
   "language": "python",
   "name": "python3"
  },
  "language_info": {
   "codemirror_mode": {
    "name": "ipython",
    "version": 3
   },
   "file_extension": ".py",
   "mimetype": "text/x-python",
   "name": "python",
   "nbconvert_exporter": "python",
   "pygments_lexer": "ipython3",
   "version": "3.9.6"
  }
 },
 "nbformat": 4,
 "nbformat_minor": 5
}
